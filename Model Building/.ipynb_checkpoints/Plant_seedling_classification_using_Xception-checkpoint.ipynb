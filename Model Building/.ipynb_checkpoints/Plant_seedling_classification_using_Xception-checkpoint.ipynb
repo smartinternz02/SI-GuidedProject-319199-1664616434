{
 "cells": [
  {
   "cell_type": "code",
   "execution_count": 2,
   "metadata": {
    "id": "aeGKNCUSUNLM"
   },
   "outputs": [],
   "source": [
    "from tensorflow.keras.layers import Dense, Flatten, Input\n",
    "from tensorflow.keras.models import Model\n",
    "from tensorflow.keras.preprocessing import image\n",
    "from tensorflow.keras.preprocessing.image import ImageDataGenerator, load_img\n",
    "from tensorflow.keras.applications.xception import Xception, preprocess_input\n",
    "from glob import glob\n",
    "import numpy as np\n",
    "import matplotlib.pyplot as plt"
   ]
  },
  {
   "cell_type": "code",
   "execution_count": 1,
   "metadata": {
    "id": "zZN1ORr14vNs"
   },
   "outputs": [],
   "source": [
    "imageSize = [224, 224]\n",
    "\n",
    "trainPath = r\"D:\\data science\\Plant seedling classification\\Data\\train\"\n",
    "\n",
    "testPath = r\"D:\\data science\\Plant seedling classification\\Data\\test\"\n"
   ]
  },
  {
   "cell_type": "code",
   "execution_count": null,
   "metadata": {
    "colab": {
     "base_uri": "https://localhost:8080/"
    },
    "id": "YsIZ4G_P4vQe",
    "outputId": "28cf6b98-e032-4e06-8b2b-edbeb1d2b3f6"
   },
   "outputs": [
    {
     "name": "stdout",
     "output_type": "stream",
     "text": [
      "Downloading data from https://storage.googleapis.com/tensorflow/keras-applications/xception/xception_weights_tf_dim_ordering_tf_kernels_notop.h5\n",
      "83689472/83683744 [==============================] - 0s 0us/step\n",
      "83697664/83683744 [==============================] - 0s 0us/step\n"
     ]
    }
   ],
   "source": [
    "xception = Xception(input_shape=imageSize + [3], weights='imagenet',include_top=False)"
   ]
  },
  {
   "cell_type": "code",
   "execution_count": null,
   "metadata": {
    "id": "dwojVXYP4vTk"
   },
   "outputs": [],
   "source": [
    "# don't train existing weights\n",
    "for layer in xception.layers:\n",
    "  layer.trainable = False"
   ]
  },
  {
   "cell_type": "code",
   "execution_count": null,
   "metadata": {
    "id": "XkxOg-qV4vWC"
   },
   "outputs": [],
   "source": [
    "# our layers - you can add more if you want\n",
    "x = Flatten()(xception.output)"
   ]
  },
  {
   "cell_type": "code",
   "execution_count": null,
   "metadata": {
    "id": "pg7T_N2J4vZQ"
   },
   "outputs": [],
   "source": [
    "prediction = Dense(17, activation='softmax')(x)"
   ]
  },
  {
   "cell_type": "code",
   "execution_count": null,
   "metadata": {
    "id": "MeOdcC7I4vbj"
   },
   "outputs": [],
   "source": [
    "# create a model object\n",
    "model = Model(inputs=xception.input, outputs=prediction)"
   ]
  },
  {
   "cell_type": "code",
   "execution_count": null,
   "metadata": {
    "colab": {
     "base_uri": "https://localhost:8080/"
    },
    "id": "huPoR0mb5qJV",
    "outputId": "f5625847-88d0-4448-ccf3-13cb416c7bb4"
   },
   "outputs": [
    {
     "name": "stdout",
     "output_type": "stream",
     "text": [
      "Model: \"model\"\n",
      "__________________________________________________________________________________________________\n",
      " Layer (type)                   Output Shape         Param #     Connected to                     \n",
      "==================================================================================================\n",
      " input_1 (InputLayer)           [(None, 224, 224, 3  0           []                               \n",
      "                                )]                                                                \n",
      "                                                                                                  \n",
      " block1_conv1 (Conv2D)          (None, 111, 111, 32  864         ['input_1[0][0]']                \n",
      "                                )                                                                 \n",
      "                                                                                                  \n",
      " block1_conv1_bn (BatchNormaliz  (None, 111, 111, 32  128        ['block1_conv1[0][0]']           \n",
      " ation)                         )                                                                 \n",
      "                                                                                                  \n",
      " block1_conv1_act (Activation)  (None, 111, 111, 32  0           ['block1_conv1_bn[0][0]']        \n",
      "                                )                                                                 \n",
      "                                                                                                  \n",
      " block1_conv2 (Conv2D)          (None, 109, 109, 64  18432       ['block1_conv1_act[0][0]']       \n",
      "                                )                                                                 \n",
      "                                                                                                  \n",
      " block1_conv2_bn (BatchNormaliz  (None, 109, 109, 64  256        ['block1_conv2[0][0]']           \n",
      " ation)                         )                                                                 \n",
      "                                                                                                  \n",
      " block1_conv2_act (Activation)  (None, 109, 109, 64  0           ['block1_conv2_bn[0][0]']        \n",
      "                                )                                                                 \n",
      "                                                                                                  \n",
      " block2_sepconv1 (SeparableConv  (None, 109, 109, 12  8768       ['block1_conv2_act[0][0]']       \n",
      " 2D)                            8)                                                                \n",
      "                                                                                                  \n",
      " block2_sepconv1_bn (BatchNorma  (None, 109, 109, 12  512        ['block2_sepconv1[0][0]']        \n",
      " lization)                      8)                                                                \n",
      "                                                                                                  \n",
      " block2_sepconv2_act (Activatio  (None, 109, 109, 12  0          ['block2_sepconv1_bn[0][0]']     \n",
      " n)                             8)                                                                \n",
      "                                                                                                  \n",
      " block2_sepconv2 (SeparableConv  (None, 109, 109, 12  17536      ['block2_sepconv2_act[0][0]']    \n",
      " 2D)                            8)                                                                \n",
      "                                                                                                  \n",
      " block2_sepconv2_bn (BatchNorma  (None, 109, 109, 12  512        ['block2_sepconv2[0][0]']        \n",
      " lization)                      8)                                                                \n",
      "                                                                                                  \n",
      " conv2d (Conv2D)                (None, 55, 55, 128)  8192        ['block1_conv2_act[0][0]']       \n",
      "                                                                                                  \n",
      " block2_pool (MaxPooling2D)     (None, 55, 55, 128)  0           ['block2_sepconv2_bn[0][0]']     \n",
      "                                                                                                  \n",
      " batch_normalization (BatchNorm  (None, 55, 55, 128)  512        ['conv2d[0][0]']                 \n",
      " alization)                                                                                       \n",
      "                                                                                                  \n",
      " add (Add)                      (None, 55, 55, 128)  0           ['block2_pool[0][0]',            \n",
      "                                                                  'batch_normalization[0][0]']    \n",
      "                                                                                                  \n",
      " block3_sepconv1_act (Activatio  (None, 55, 55, 128)  0          ['add[0][0]']                    \n",
      " n)                                                                                               \n",
      "                                                                                                  \n",
      " block3_sepconv1 (SeparableConv  (None, 55, 55, 256)  33920      ['block3_sepconv1_act[0][0]']    \n",
      " 2D)                                                                                              \n",
      "                                                                                                  \n",
      " block3_sepconv1_bn (BatchNorma  (None, 55, 55, 256)  1024       ['block3_sepconv1[0][0]']        \n",
      " lization)                                                                                        \n",
      "                                                                                                  \n",
      " block3_sepconv2_act (Activatio  (None, 55, 55, 256)  0          ['block3_sepconv1_bn[0][0]']     \n",
      " n)                                                                                               \n",
      "                                                                                                  \n",
      " block3_sepconv2 (SeparableConv  (None, 55, 55, 256)  67840      ['block3_sepconv2_act[0][0]']    \n",
      " 2D)                                                                                              \n",
      "                                                                                                  \n",
      " block3_sepconv2_bn (BatchNorma  (None, 55, 55, 256)  1024       ['block3_sepconv2[0][0]']        \n",
      " lization)                                                                                        \n",
      "                                                                                                  \n",
      " conv2d_1 (Conv2D)              (None, 28, 28, 256)  32768       ['add[0][0]']                    \n",
      "                                                                                                  \n",
      " block3_pool (MaxPooling2D)     (None, 28, 28, 256)  0           ['block3_sepconv2_bn[0][0]']     \n",
      "                                                                                                  \n",
      " batch_normalization_1 (BatchNo  (None, 28, 28, 256)  1024       ['conv2d_1[0][0]']               \n",
      " rmalization)                                                                                     \n",
      "                                                                                                  \n",
      " add_1 (Add)                    (None, 28, 28, 256)  0           ['block3_pool[0][0]',            \n",
      "                                                                  'batch_normalization_1[0][0]']  \n",
      "                                                                                                  \n",
      " block4_sepconv1_act (Activatio  (None, 28, 28, 256)  0          ['add_1[0][0]']                  \n",
      " n)                                                                                               \n",
      "                                                                                                  \n",
      " block4_sepconv1 (SeparableConv  (None, 28, 28, 728)  188672     ['block4_sepconv1_act[0][0]']    \n",
      " 2D)                                                                                              \n",
      "                                                                                                  \n",
      " block4_sepconv1_bn (BatchNorma  (None, 28, 28, 728)  2912       ['block4_sepconv1[0][0]']        \n",
      " lization)                                                                                        \n",
      "                                                                                                  \n",
      " block4_sepconv2_act (Activatio  (None, 28, 28, 728)  0          ['block4_sepconv1_bn[0][0]']     \n",
      " n)                                                                                               \n",
      "                                                                                                  \n",
      " block4_sepconv2 (SeparableConv  (None, 28, 28, 728)  536536     ['block4_sepconv2_act[0][0]']    \n",
      " 2D)                                                                                              \n",
      "                                                                                                  \n",
      " block4_sepconv2_bn (BatchNorma  (None, 28, 28, 728)  2912       ['block4_sepconv2[0][0]']        \n",
      " lization)                                                                                        \n",
      "                                                                                                  \n",
      " conv2d_2 (Conv2D)              (None, 14, 14, 728)  186368      ['add_1[0][0]']                  \n",
      "                                                                                                  \n",
      " block4_pool (MaxPooling2D)     (None, 14, 14, 728)  0           ['block4_sepconv2_bn[0][0]']     \n",
      "                                                                                                  \n",
      " batch_normalization_2 (BatchNo  (None, 14, 14, 728)  2912       ['conv2d_2[0][0]']               \n",
      " rmalization)                                                                                     \n",
      "                                                                                                  \n",
      " add_2 (Add)                    (None, 14, 14, 728)  0           ['block4_pool[0][0]',            \n",
      "                                                                  'batch_normalization_2[0][0]']  \n",
      "                                                                                                  \n",
      " block5_sepconv1_act (Activatio  (None, 14, 14, 728)  0          ['add_2[0][0]']                  \n",
      " n)                                                                                               \n",
      "                                                                                                  \n",
      " block5_sepconv1 (SeparableConv  (None, 14, 14, 728)  536536     ['block5_sepconv1_act[0][0]']    \n",
      " 2D)                                                                                              \n",
      "                                                                                                  \n",
      " block5_sepconv1_bn (BatchNorma  (None, 14, 14, 728)  2912       ['block5_sepconv1[0][0]']        \n",
      " lization)                                                                                        \n",
      "                                                                                                  \n",
      " block5_sepconv2_act (Activatio  (None, 14, 14, 728)  0          ['block5_sepconv1_bn[0][0]']     \n",
      " n)                                                                                               \n",
      "                                                                                                  \n",
      " block5_sepconv2 (SeparableConv  (None, 14, 14, 728)  536536     ['block5_sepconv2_act[0][0]']    \n",
      " 2D)                                                                                              \n",
      "                                                                                                  \n",
      " block5_sepconv2_bn (BatchNorma  (None, 14, 14, 728)  2912       ['block5_sepconv2[0][0]']        \n",
      " lization)                                                                                        \n",
      "                                                                                                  \n",
      " block5_sepconv3_act (Activatio  (None, 14, 14, 728)  0          ['block5_sepconv2_bn[0][0]']     \n",
      " n)                                                                                               \n",
      "                                                                                                  \n",
      " block5_sepconv3 (SeparableConv  (None, 14, 14, 728)  536536     ['block5_sepconv3_act[0][0]']    \n",
      " 2D)                                                                                              \n",
      "                                                                                                  \n",
      " block5_sepconv3_bn (BatchNorma  (None, 14, 14, 728)  2912       ['block5_sepconv3[0][0]']        \n",
      " lization)                                                                                        \n",
      "                                                                                                  \n",
      " add_3 (Add)                    (None, 14, 14, 728)  0           ['block5_sepconv3_bn[0][0]',     \n",
      "                                                                  'add_2[0][0]']                  \n",
      "                                                                                                  \n",
      " block6_sepconv1_act (Activatio  (None, 14, 14, 728)  0          ['add_3[0][0]']                  \n",
      " n)                                                                                               \n",
      "                                                                                                  \n",
      " block6_sepconv1 (SeparableConv  (None, 14, 14, 728)  536536     ['block6_sepconv1_act[0][0]']    \n",
      " 2D)                                                                                              \n",
      "                                                                                                  \n",
      " block6_sepconv1_bn (BatchNorma  (None, 14, 14, 728)  2912       ['block6_sepconv1[0][0]']        \n",
      " lization)                                                                                        \n",
      "                                                                                                  \n",
      " block6_sepconv2_act (Activatio  (None, 14, 14, 728)  0          ['block6_sepconv1_bn[0][0]']     \n",
      " n)                                                                                               \n",
      "                                                                                                  \n",
      " block6_sepconv2 (SeparableConv  (None, 14, 14, 728)  536536     ['block6_sepconv2_act[0][0]']    \n",
      " 2D)                                                                                              \n",
      "                                                                                                  \n",
      " block6_sepconv2_bn (BatchNorma  (None, 14, 14, 728)  2912       ['block6_sepconv2[0][0]']        \n",
      " lization)                                                                                        \n",
      "                                                                                                  \n",
      " block6_sepconv3_act (Activatio  (None, 14, 14, 728)  0          ['block6_sepconv2_bn[0][0]']     \n",
      " n)                                                                                               \n",
      "                                                                                                  \n",
      " block6_sepconv3 (SeparableConv  (None, 14, 14, 728)  536536     ['block6_sepconv3_act[0][0]']    \n",
      " 2D)                                                                                              \n",
      "                                                                                                  \n",
      " block6_sepconv3_bn (BatchNorma  (None, 14, 14, 728)  2912       ['block6_sepconv3[0][0]']        \n",
      " lization)                                                                                        \n",
      "                                                                                                  \n",
      " add_4 (Add)                    (None, 14, 14, 728)  0           ['block6_sepconv3_bn[0][0]',     \n",
      "                                                                  'add_3[0][0]']                  \n",
      "                                                                                                  \n",
      " block7_sepconv1_act (Activatio  (None, 14, 14, 728)  0          ['add_4[0][0]']                  \n",
      " n)                                                                                               \n",
      "                                                                                                  \n",
      " block7_sepconv1 (SeparableConv  (None, 14, 14, 728)  536536     ['block7_sepconv1_act[0][0]']    \n",
      " 2D)                                                                                              \n",
      "                                                                                                  \n",
      " block7_sepconv1_bn (BatchNorma  (None, 14, 14, 728)  2912       ['block7_sepconv1[0][0]']        \n",
      " lization)                                                                                        \n",
      "                                                                                                  \n",
      " block7_sepconv2_act (Activatio  (None, 14, 14, 728)  0          ['block7_sepconv1_bn[0][0]']     \n",
      " n)                                                                                               \n",
      "                                                                                                  \n",
      " block7_sepconv2 (SeparableConv  (None, 14, 14, 728)  536536     ['block7_sepconv2_act[0][0]']    \n",
      " 2D)                                                                                              \n",
      "                                                                                                  \n",
      " block7_sepconv2_bn (BatchNorma  (None, 14, 14, 728)  2912       ['block7_sepconv2[0][0]']        \n",
      " lization)                                                                                        \n",
      "                                                                                                  \n",
      " block7_sepconv3_act (Activatio  (None, 14, 14, 728)  0          ['block7_sepconv2_bn[0][0]']     \n",
      " n)                                                                                               \n",
      "                                                                                                  \n",
      " block7_sepconv3 (SeparableConv  (None, 14, 14, 728)  536536     ['block7_sepconv3_act[0][0]']    \n",
      " 2D)                                                                                              \n",
      "                                                                                                  \n",
      " block7_sepconv3_bn (BatchNorma  (None, 14, 14, 728)  2912       ['block7_sepconv3[0][0]']        \n",
      " lization)                                                                                        \n",
      "                                                                                                  \n",
      " add_5 (Add)                    (None, 14, 14, 728)  0           ['block7_sepconv3_bn[0][0]',     \n",
      "                                                                  'add_4[0][0]']                  \n",
      "                                                                                                  \n",
      " block8_sepconv1_act (Activatio  (None, 14, 14, 728)  0          ['add_5[0][0]']                  \n",
      " n)                                                                                               \n",
      "                                                                                                  \n",
      " block8_sepconv1 (SeparableConv  (None, 14, 14, 728)  536536     ['block8_sepconv1_act[0][0]']    \n",
      " 2D)                                                                                              \n",
      "                                                                                                  \n",
      " block8_sepconv1_bn (BatchNorma  (None, 14, 14, 728)  2912       ['block8_sepconv1[0][0]']        \n",
      " lization)                                                                                        \n",
      "                                                                                                  \n",
      " block8_sepconv2_act (Activatio  (None, 14, 14, 728)  0          ['block8_sepconv1_bn[0][0]']     \n",
      " n)                                                                                               \n",
      "                                                                                                  \n",
      " block8_sepconv2 (SeparableConv  (None, 14, 14, 728)  536536     ['block8_sepconv2_act[0][0]']    \n",
      " 2D)                                                                                              \n",
      "                                                                                                  \n",
      " block8_sepconv2_bn (BatchNorma  (None, 14, 14, 728)  2912       ['block8_sepconv2[0][0]']        \n",
      " lization)                                                                                        \n",
      "                                                                                                  \n",
      " block8_sepconv3_act (Activatio  (None, 14, 14, 728)  0          ['block8_sepconv2_bn[0][0]']     \n",
      " n)                                                                                               \n",
      "                                                                                                  \n",
      " block8_sepconv3 (SeparableConv  (None, 14, 14, 728)  536536     ['block8_sepconv3_act[0][0]']    \n",
      " 2D)                                                                                              \n",
      "                                                                                                  \n",
      " block8_sepconv3_bn (BatchNorma  (None, 14, 14, 728)  2912       ['block8_sepconv3[0][0]']        \n",
      " lization)                                                                                        \n",
      "                                                                                                  \n",
      " add_6 (Add)                    (None, 14, 14, 728)  0           ['block8_sepconv3_bn[0][0]',     \n",
      "                                                                  'add_5[0][0]']                  \n",
      "                                                                                                  \n",
      " block9_sepconv1_act (Activatio  (None, 14, 14, 728)  0          ['add_6[0][0]']                  \n",
      " n)                                                                                               \n",
      "                                                                                                  \n",
      " block9_sepconv1 (SeparableConv  (None, 14, 14, 728)  536536     ['block9_sepconv1_act[0][0]']    \n",
      " 2D)                                                                                              \n",
      "                                                                                                  \n",
      " block9_sepconv1_bn (BatchNorma  (None, 14, 14, 728)  2912       ['block9_sepconv1[0][0]']        \n",
      " lization)                                                                                        \n",
      "                                                                                                  \n",
      " block9_sepconv2_act (Activatio  (None, 14, 14, 728)  0          ['block9_sepconv1_bn[0][0]']     \n",
      " n)                                                                                               \n",
      "                                                                                                  \n",
      " block9_sepconv2 (SeparableConv  (None, 14, 14, 728)  536536     ['block9_sepconv2_act[0][0]']    \n",
      " 2D)                                                                                              \n",
      "                                                                                                  \n",
      " block9_sepconv2_bn (BatchNorma  (None, 14, 14, 728)  2912       ['block9_sepconv2[0][0]']        \n",
      " lization)                                                                                        \n",
      "                                                                                                  \n",
      " block9_sepconv3_act (Activatio  (None, 14, 14, 728)  0          ['block9_sepconv2_bn[0][0]']     \n",
      " n)                                                                                               \n",
      "                                                                                                  \n",
      " block9_sepconv3 (SeparableConv  (None, 14, 14, 728)  536536     ['block9_sepconv3_act[0][0]']    \n",
      " 2D)                                                                                              \n",
      "                                                                                                  \n",
      " block9_sepconv3_bn (BatchNorma  (None, 14, 14, 728)  2912       ['block9_sepconv3[0][0]']        \n",
      " lization)                                                                                        \n",
      "                                                                                                  \n",
      " add_7 (Add)                    (None, 14, 14, 728)  0           ['block9_sepconv3_bn[0][0]',     \n",
      "                                                                  'add_6[0][0]']                  \n",
      "                                                                                                  \n",
      " block10_sepconv1_act (Activati  (None, 14, 14, 728)  0          ['add_7[0][0]']                  \n",
      " on)                                                                                              \n",
      "                                                                                                  \n",
      " block10_sepconv1 (SeparableCon  (None, 14, 14, 728)  536536     ['block10_sepconv1_act[0][0]']   \n",
      " v2D)                                                                                             \n",
      "                                                                                                  \n",
      " block10_sepconv1_bn (BatchNorm  (None, 14, 14, 728)  2912       ['block10_sepconv1[0][0]']       \n",
      " alization)                                                                                       \n",
      "                                                                                                  \n",
      " block10_sepconv2_act (Activati  (None, 14, 14, 728)  0          ['block10_sepconv1_bn[0][0]']    \n",
      " on)                                                                                              \n",
      "                                                                                                  \n",
      " block10_sepconv2 (SeparableCon  (None, 14, 14, 728)  536536     ['block10_sepconv2_act[0][0]']   \n",
      " v2D)                                                                                             \n",
      "                                                                                                  \n",
      " block10_sepconv2_bn (BatchNorm  (None, 14, 14, 728)  2912       ['block10_sepconv2[0][0]']       \n",
      " alization)                                                                                       \n",
      "                                                                                                  \n",
      " block10_sepconv3_act (Activati  (None, 14, 14, 728)  0          ['block10_sepconv2_bn[0][0]']    \n",
      " on)                                                                                              \n",
      "                                                                                                  \n",
      " block10_sepconv3 (SeparableCon  (None, 14, 14, 728)  536536     ['block10_sepconv3_act[0][0]']   \n",
      " v2D)                                                                                             \n",
      "                                                                                                  \n",
      " block10_sepconv3_bn (BatchNorm  (None, 14, 14, 728)  2912       ['block10_sepconv3[0][0]']       \n",
      " alization)                                                                                       \n",
      "                                                                                                  \n",
      " add_8 (Add)                    (None, 14, 14, 728)  0           ['block10_sepconv3_bn[0][0]',    \n",
      "                                                                  'add_7[0][0]']                  \n",
      "                                                                                                  \n",
      " block11_sepconv1_act (Activati  (None, 14, 14, 728)  0          ['add_8[0][0]']                  \n",
      " on)                                                                                              \n",
      "                                                                                                  \n",
      " block11_sepconv1 (SeparableCon  (None, 14, 14, 728)  536536     ['block11_sepconv1_act[0][0]']   \n",
      " v2D)                                                                                             \n",
      "                                                                                                  \n",
      " block11_sepconv1_bn (BatchNorm  (None, 14, 14, 728)  2912       ['block11_sepconv1[0][0]']       \n",
      " alization)                                                                                       \n",
      "                                                                                                  \n",
      " block11_sepconv2_act (Activati  (None, 14, 14, 728)  0          ['block11_sepconv1_bn[0][0]']    \n",
      " on)                                                                                              \n",
      "                                                                                                  \n",
      " block11_sepconv2 (SeparableCon  (None, 14, 14, 728)  536536     ['block11_sepconv2_act[0][0]']   \n",
      " v2D)                                                                                             \n",
      "                                                                                                  \n",
      " block11_sepconv2_bn (BatchNorm  (None, 14, 14, 728)  2912       ['block11_sepconv2[0][0]']       \n",
      " alization)                                                                                       \n",
      "                                                                                                  \n",
      " block11_sepconv3_act (Activati  (None, 14, 14, 728)  0          ['block11_sepconv2_bn[0][0]']    \n",
      " on)                                                                                              \n",
      "                                                                                                  \n",
      " block11_sepconv3 (SeparableCon  (None, 14, 14, 728)  536536     ['block11_sepconv3_act[0][0]']   \n",
      " v2D)                                                                                             \n",
      "                                                                                                  \n",
      " block11_sepconv3_bn (BatchNorm  (None, 14, 14, 728)  2912       ['block11_sepconv3[0][0]']       \n",
      " alization)                                                                                       \n",
      "                                                                                                  \n",
      " add_9 (Add)                    (None, 14, 14, 728)  0           ['block11_sepconv3_bn[0][0]',    \n",
      "                                                                  'add_8[0][0]']                  \n",
      "                                                                                                  \n",
      " block12_sepconv1_act (Activati  (None, 14, 14, 728)  0          ['add_9[0][0]']                  \n",
      " on)                                                                                              \n",
      "                                                                                                  \n",
      " block12_sepconv1 (SeparableCon  (None, 14, 14, 728)  536536     ['block12_sepconv1_act[0][0]']   \n",
      " v2D)                                                                                             \n",
      "                                                                                                  \n",
      " block12_sepconv1_bn (BatchNorm  (None, 14, 14, 728)  2912       ['block12_sepconv1[0][0]']       \n",
      " alization)                                                                                       \n",
      "                                                                                                  \n",
      " block12_sepconv2_act (Activati  (None, 14, 14, 728)  0          ['block12_sepconv1_bn[0][0]']    \n",
      " on)                                                                                              \n",
      "                                                                                                  \n",
      " block12_sepconv2 (SeparableCon  (None, 14, 14, 728)  536536     ['block12_sepconv2_act[0][0]']   \n",
      " v2D)                                                                                             \n",
      "                                                                                                  \n",
      " block12_sepconv2_bn (BatchNorm  (None, 14, 14, 728)  2912       ['block12_sepconv2[0][0]']       \n",
      " alization)                                                                                       \n",
      "                                                                                                  \n",
      " block12_sepconv3_act (Activati  (None, 14, 14, 728)  0          ['block12_sepconv2_bn[0][0]']    \n",
      " on)                                                                                              \n",
      "                                                                                                  \n",
      " block12_sepconv3 (SeparableCon  (None, 14, 14, 728)  536536     ['block12_sepconv3_act[0][0]']   \n",
      " v2D)                                                                                             \n",
      "                                                                                                  \n",
      " block12_sepconv3_bn (BatchNorm  (None, 14, 14, 728)  2912       ['block12_sepconv3[0][0]']       \n",
      " alization)                                                                                       \n",
      "                                                                                                  \n",
      " add_10 (Add)                   (None, 14, 14, 728)  0           ['block12_sepconv3_bn[0][0]',    \n",
      "                                                                  'add_9[0][0]']                  \n",
      "                                                                                                  \n",
      " block13_sepconv1_act (Activati  (None, 14, 14, 728)  0          ['add_10[0][0]']                 \n",
      " on)                                                                                              \n",
      "                                                                                                  \n",
      " block13_sepconv1 (SeparableCon  (None, 14, 14, 728)  536536     ['block13_sepconv1_act[0][0]']   \n",
      " v2D)                                                                                             \n",
      "                                                                                                  \n",
      " block13_sepconv1_bn (BatchNorm  (None, 14, 14, 728)  2912       ['block13_sepconv1[0][0]']       \n",
      " alization)                                                                                       \n",
      "                                                                                                  \n",
      " block13_sepconv2_act (Activati  (None, 14, 14, 728)  0          ['block13_sepconv1_bn[0][0]']    \n",
      " on)                                                                                              \n",
      "                                                                                                  \n",
      " block13_sepconv2 (SeparableCon  (None, 14, 14, 1024  752024     ['block13_sepconv2_act[0][0]']   \n",
      " v2D)                           )                                                                 \n",
      "                                                                                                  \n",
      " block13_sepconv2_bn (BatchNorm  (None, 14, 14, 1024  4096       ['block13_sepconv2[0][0]']       \n",
      " alization)                     )                                                                 \n",
      "                                                                                                  \n",
      " conv2d_3 (Conv2D)              (None, 7, 7, 1024)   745472      ['add_10[0][0]']                 \n",
      "                                                                                                  \n",
      " block13_pool (MaxPooling2D)    (None, 7, 7, 1024)   0           ['block13_sepconv2_bn[0][0]']    \n",
      "                                                                                                  \n",
      " batch_normalization_3 (BatchNo  (None, 7, 7, 1024)  4096        ['conv2d_3[0][0]']               \n",
      " rmalization)                                                                                     \n",
      "                                                                                                  \n",
      " add_11 (Add)                   (None, 7, 7, 1024)   0           ['block13_pool[0][0]',           \n",
      "                                                                  'batch_normalization_3[0][0]']  \n",
      "                                                                                                  \n",
      " block14_sepconv1 (SeparableCon  (None, 7, 7, 1536)  1582080     ['add_11[0][0]']                 \n",
      " v2D)                                                                                             \n",
      "                                                                                                  \n",
      " block14_sepconv1_bn (BatchNorm  (None, 7, 7, 1536)  6144        ['block14_sepconv1[0][0]']       \n",
      " alization)                                                                                       \n",
      "                                                                                                  \n",
      " block14_sepconv1_act (Activati  (None, 7, 7, 1536)  0           ['block14_sepconv1_bn[0][0]']    \n",
      " on)                                                                                              \n",
      "                                                                                                  \n",
      " block14_sepconv2 (SeparableCon  (None, 7, 7, 2048)  3159552     ['block14_sepconv1_act[0][0]']   \n",
      " v2D)                                                                                             \n",
      "                                                                                                  \n",
      " block14_sepconv2_bn (BatchNorm  (None, 7, 7, 2048)  8192        ['block14_sepconv2[0][0]']       \n",
      " alization)                                                                                       \n",
      "                                                                                                  \n",
      " block14_sepconv2_act (Activati  (None, 7, 7, 2048)  0           ['block14_sepconv2_bn[0][0]']    \n",
      " on)                                                                                              \n",
      "                                                                                                  \n",
      " flatten (Flatten)              (None, 100352)       0           ['block14_sepconv2_act[0][0]']   \n",
      "                                                                                                  \n",
      " dense (Dense)                  (None, 17)           1706001     ['flatten[0][0]']                \n",
      "                                                                                                  \n",
      "==================================================================================================\n",
      "Total params: 22,567,481\n",
      "Trainable params: 1,706,001\n",
      "Non-trainable params: 20,861,480\n",
      "__________________________________________________________________________________________________\n"
     ]
    }
   ],
   "source": [
    "# view the structure of the model\n",
    "model.summary()"
   ]
  },
  {
   "cell_type": "code",
   "execution_count": null,
   "metadata": {
    "id": "4kz6OK1F5qNK"
   },
   "outputs": [],
   "source": [
    "# tell the model what cost and optimization method to use\n",
    "model.compile(\n",
    "  loss='categorical_crossentropy',\n",
    "  optimizer='adam',\n",
    "  metrics=['accuracy']\n",
    ")\n"
   ]
  },
  {
   "cell_type": "code",
   "execution_count": null,
   "metadata": {
    "id": "kzpdjooX5qQK"
   },
   "outputs": [],
   "source": [
    "train_datagen = ImageDataGenerator(rescale = 1./255,\n",
    "                                   shear_range = 0.2,\n",
    "                                   zoom_range = 0.2,\n",
    "                                   horizontal_flip = True)\n",
    "\n",
    "test_datagen = ImageDataGenerator(rescale = 1./255)"
   ]
  },
  {
   "cell_type": "code",
   "execution_count": null,
   "metadata": {
    "colab": {
     "base_uri": "https://localhost:8080/"
    },
    "id": "rCaJhCGG5qWi",
    "outputId": "ff121bf3-4e9f-4a4a-c305-edb5c4628fb8"
   },
   "outputs": [
    {
     "name": "stdout",
     "output_type": "stream",
     "text": [
      "Found 655 images belonging to 17 classes.\n",
      "Found 183 images belonging to 17 classes.\n"
     ]
    }
   ],
   "source": [
    "training_set = train_datagen.flow_from_directory(trainPath,\n",
    "                                                 target_size = (224, 224),\n",
    "                                                 batch_size = 32,\n",
    "                                                 class_mode = 'categorical')\n",
    "\n",
    "test_set = test_datagen.flow_from_directory(testPath,\n",
    "                                            target_size = (224,224),\n",
    "                                            batch_size = 32,\n",
    "                                            class_mode = 'categorical')"
   ]
  },
  {
   "cell_type": "code",
   "execution_count": null,
   "metadata": {
    "colab": {
     "base_uri": "https://localhost:8080/"
    },
    "id": "E6sABffY54pU",
    "outputId": "c67ee09a-5229-4cf2-92b6-401c65821fb6"
   },
   "outputs": [
    {
     "name": "stderr",
     "output_type": "stream",
     "text": [
      "/usr/local/lib/python3.7/dist-packages/ipykernel_launcher.py:7: UserWarning: `Model.fit_generator` is deprecated and will be removed in a future version. Please use `Model.fit`, which supports generators.\n",
      "  import sys\n"
     ]
    },
    {
     "name": "stdout",
     "output_type": "stream",
     "text": [
      "Epoch 1/100\n",
      "4/4 [==============================] - 46s 9s/step - loss: 8.9794 - accuracy: 0.0625 - val_loss: 9.6087 - val_accuracy: 0.1250\n",
      "Epoch 2/100\n",
      "4/4 [==============================] - 28s 8s/step - loss: 9.5830 - accuracy: 0.2031 - val_loss: 9.6772 - val_accuracy: 0.1875\n",
      "Epoch 3/100\n",
      "4/4 [==============================] - 22s 6s/step - loss: 5.8715 - accuracy: 0.2500 - val_loss: 10.7798 - val_accuracy: 0.1875\n",
      "Epoch 4/100\n",
      "4/4 [==============================] - 14s 4s/step - loss: 6.1649 - accuracy: 0.2656 - val_loss: 5.6793 - val_accuracy: 0.2188\n",
      "Epoch 5/100\n",
      "4/4 [==============================] - 10s 3s/step - loss: 4.4680 - accuracy: 0.4062 - val_loss: 2.1376 - val_accuracy: 0.6250\n",
      "Epoch 6/100\n",
      "4/4 [==============================] - 7s 2s/step - loss: 3.9133 - accuracy: 0.4595 - val_loss: 1.3650 - val_accuracy: 0.7500\n",
      "Epoch 7/100\n",
      "4/4 [==============================] - 6s 1s/step - loss: 3.3368 - accuracy: 0.5676 - val_loss: 4.1190 - val_accuracy: 0.5312\n",
      "Epoch 8/100\n",
      "4/4 [==============================] - 5s 1s/step - loss: 3.3525 - accuracy: 0.5156 - val_loss: 1.4558 - val_accuracy: 0.7188\n",
      "Epoch 9/100\n",
      "4/4 [==============================] - 5s 1s/step - loss: 2.9419 - accuracy: 0.6036 - val_loss: 3.8450 - val_accuracy: 0.5625\n",
      "Epoch 10/100\n",
      "4/4 [==============================] - 4s 896ms/step - loss: 3.7146 - accuracy: 0.5938 - val_loss: 2.1583 - val_accuracy: 0.6250\n",
      "Epoch 11/100\n",
      "4/4 [==============================] - 3s 783ms/step - loss: 2.5527 - accuracy: 0.5938 - val_loss: 2.8133 - val_accuracy: 0.5938\n",
      "Epoch 12/100\n",
      "4/4 [==============================] - 3s 889ms/step - loss: 1.7962 - accuracy: 0.6484 - val_loss: 1.3654 - val_accuracy: 0.8125\n",
      "Epoch 13/100\n",
      "4/4 [==============================] - 3s 844ms/step - loss: 1.7357 - accuracy: 0.6484 - val_loss: 2.8341 - val_accuracy: 0.6250\n",
      "Epoch 14/100\n",
      "4/4 [==============================] - 3s 685ms/step - loss: 2.0943 - accuracy: 0.5625 - val_loss: 0.6414 - val_accuracy: 0.8438\n",
      "Epoch 15/100\n",
      "4/4 [==============================] - 3s 653ms/step - loss: 1.9704 - accuracy: 0.6757 - val_loss: 1.9541 - val_accuracy: 0.7500\n",
      "Epoch 16/100\n",
      "4/4 [==============================] - 2s 516ms/step - loss: 2.9458 - accuracy: 0.6406 - val_loss: 1.7794 - val_accuracy: 0.7812\n",
      "Epoch 17/100\n",
      "4/4 [==============================] - 3s 799ms/step - loss: 1.9266 - accuracy: 0.7188 - val_loss: 1.6546 - val_accuracy: 0.7500\n",
      "Epoch 18/100\n",
      "4/4 [==============================] - 2s 650ms/step - loss: 1.7929 - accuracy: 0.7422 - val_loss: 0.7527 - val_accuracy: 0.8750\n",
      "Epoch 19/100\n",
      "4/4 [==============================] - 3s 693ms/step - loss: 1.2283 - accuracy: 0.7656 - val_loss: 0.7299 - val_accuracy: 0.8125\n",
      "Epoch 20/100\n",
      "4/4 [==============================] - 2s 467ms/step - loss: 1.7654 - accuracy: 0.7027 - val_loss: 1.3124 - val_accuracy: 0.7500\n",
      "Epoch 21/100\n",
      "4/4 [==============================] - 2s 547ms/step - loss: 1.4193 - accuracy: 0.7500 - val_loss: 1.2782 - val_accuracy: 0.7500\n",
      "Epoch 22/100\n",
      "4/4 [==============================] - 2s 550ms/step - loss: 1.5554 - accuracy: 0.7031 - val_loss: 0.6839 - val_accuracy: 0.8438\n",
      "Epoch 23/100\n",
      "4/4 [==============================] - 2s 534ms/step - loss: 1.1695 - accuracy: 0.7969 - val_loss: 0.8209 - val_accuracy: 0.8750\n",
      "Epoch 24/100\n",
      "4/4 [==============================] - 2s 552ms/step - loss: 0.8895 - accuracy: 0.7891 - val_loss: 0.3749 - val_accuracy: 0.8750\n",
      "Epoch 25/100\n",
      "4/4 [==============================] - 2s 544ms/step - loss: 0.6875 - accuracy: 0.8438 - val_loss: 0.2965 - val_accuracy: 0.8750\n",
      "Epoch 26/100\n",
      "4/4 [==============================] - 2s 549ms/step - loss: 0.8743 - accuracy: 0.7734 - val_loss: 1.1161 - val_accuracy: 0.7812\n",
      "Epoch 27/100\n",
      "4/4 [==============================] - 2s 599ms/step - loss: 0.9218 - accuracy: 0.7891 - val_loss: 1.1100 - val_accuracy: 0.7500\n",
      "Epoch 28/100\n",
      "4/4 [==============================] - 2s 552ms/step - loss: 0.9277 - accuracy: 0.8203 - val_loss: 1.2333 - val_accuracy: 0.7812\n",
      "Epoch 29/100\n",
      "4/4 [==============================] - 2s 467ms/step - loss: 0.7821 - accuracy: 0.8198 - val_loss: 0.5325 - val_accuracy: 0.9375\n",
      "Epoch 30/100\n",
      "4/4 [==============================] - 2s 552ms/step - loss: 1.1253 - accuracy: 0.8125 - val_loss: 0.6593 - val_accuracy: 0.8750\n",
      "Epoch 31/100\n",
      "4/4 [==============================] - 2s 462ms/step - loss: 0.9065 - accuracy: 0.7928 - val_loss: 0.3399 - val_accuracy: 0.9062\n",
      "Epoch 32/100\n",
      "4/4 [==============================] - 2s 549ms/step - loss: 0.7951 - accuracy: 0.8359 - val_loss: 0.1353 - val_accuracy: 0.9375\n",
      "Epoch 33/100\n",
      "4/4 [==============================] - 2s 556ms/step - loss: 0.9373 - accuracy: 0.8125 - val_loss: 0.6119 - val_accuracy: 0.9375\n",
      "Epoch 34/100\n",
      "4/4 [==============================] - 2s 549ms/step - loss: 0.5577 - accuracy: 0.8594 - val_loss: 0.6256 - val_accuracy: 0.9062\n",
      "Epoch 35/100\n",
      "4/4 [==============================] - 2s 561ms/step - loss: 0.3694 - accuracy: 0.9141 - val_loss: 0.6575 - val_accuracy: 0.8438\n",
      "Epoch 36/100\n",
      "4/4 [==============================] - 2s 547ms/step - loss: 0.6388 - accuracy: 0.8281 - val_loss: 0.2997 - val_accuracy: 0.9062\n",
      "Epoch 37/100\n",
      "4/4 [==============================] - 2s 543ms/step - loss: 0.3190 - accuracy: 0.8906 - val_loss: 0.2789 - val_accuracy: 0.9062\n",
      "Epoch 38/100\n",
      "4/4 [==============================] - 2s 548ms/step - loss: 0.6300 - accuracy: 0.8281 - val_loss: 0.1663 - val_accuracy: 0.9375\n",
      "Epoch 39/100\n",
      "4/4 [==============================] - 2s 565ms/step - loss: 0.5253 - accuracy: 0.8919 - val_loss: 0.0492 - val_accuracy: 0.9688\n",
      "Epoch 40/100\n",
      "4/4 [==============================] - 2s 545ms/step - loss: 0.4569 - accuracy: 0.8672 - val_loss: 1.3203 - val_accuracy: 0.8750\n",
      "Epoch 41/100\n",
      "4/4 [==============================] - 2s 540ms/step - loss: 0.4535 - accuracy: 0.9141 - val_loss: 0.8255 - val_accuracy: 0.9062\n",
      "Epoch 42/100\n",
      "4/4 [==============================] - 2s 548ms/step - loss: 0.6571 - accuracy: 0.8828 - val_loss: 0.5723 - val_accuracy: 0.9062\n",
      "Epoch 43/100\n",
      "4/4 [==============================] - 2s 458ms/step - loss: 0.3038 - accuracy: 0.9099 - val_loss: 0.5462 - val_accuracy: 0.9062\n",
      "Epoch 44/100\n",
      "4/4 [==============================] - 2s 538ms/step - loss: 0.6666 - accuracy: 0.8438 - val_loss: 0.0774 - val_accuracy: 0.9688\n",
      "Epoch 45/100\n",
      "4/4 [==============================] - 2s 533ms/step - loss: 0.3751 - accuracy: 0.9062 - val_loss: 0.4303 - val_accuracy: 0.9375\n",
      "Epoch 46/100\n",
      "4/4 [==============================] - 2s 546ms/step - loss: 0.5561 - accuracy: 0.8906 - val_loss: 0.3495 - val_accuracy: 0.9375\n",
      "Epoch 47/100\n",
      "4/4 [==============================] - 2s 548ms/step - loss: 0.4214 - accuracy: 0.9141 - val_loss: 0.5841 - val_accuracy: 0.8438\n",
      "Epoch 48/100\n",
      "4/4 [==============================] - 2s 548ms/step - loss: 0.4560 - accuracy: 0.8906 - val_loss: 0.3271 - val_accuracy: 0.9375\n",
      "Epoch 49/100\n",
      "4/4 [==============================] - 2s 555ms/step - loss: 0.3498 - accuracy: 0.9531 - val_loss: 0.3243 - val_accuracy: 0.8750\n",
      "Epoch 50/100\n",
      "4/4 [==============================] - 2s 537ms/step - loss: 0.2178 - accuracy: 0.9297 - val_loss: 0.1746 - val_accuracy: 0.9688\n",
      "Epoch 51/100\n",
      "4/4 [==============================] - 2s 550ms/step - loss: 0.3001 - accuracy: 0.9062 - val_loss: 0.0381 - val_accuracy: 1.0000\n",
      "Epoch 52/100\n",
      "4/4 [==============================] - 2s 541ms/step - loss: 0.4271 - accuracy: 0.8906 - val_loss: 0.1795 - val_accuracy: 0.9375\n",
      "Epoch 53/100\n",
      "4/4 [==============================] - 2s 529ms/step - loss: 0.2732 - accuracy: 0.9375 - val_loss: 0.4563 - val_accuracy: 0.9062\n",
      "Epoch 54/100\n",
      "4/4 [==============================] - 2s 542ms/step - loss: 0.3363 - accuracy: 0.9219 - val_loss: 0.3424 - val_accuracy: 0.9375\n",
      "Epoch 55/100\n",
      "4/4 [==============================] - 2s 535ms/step - loss: 0.5216 - accuracy: 0.8906 - val_loss: 0.4660 - val_accuracy: 0.8125\n",
      "Epoch 56/100\n",
      "4/4 [==============================] - 2s 535ms/step - loss: 0.2806 - accuracy: 0.9062 - val_loss: 0.2044 - val_accuracy: 0.9375\n",
      "Epoch 57/100\n",
      "4/4 [==============================] - 2s 548ms/step - loss: 0.5162 - accuracy: 0.8984 - val_loss: 0.0112 - val_accuracy: 1.0000\n",
      "Epoch 58/100\n",
      "4/4 [==============================] - 2s 534ms/step - loss: 0.3913 - accuracy: 0.9219 - val_loss: 0.0235 - val_accuracy: 1.0000\n",
      "Epoch 59/100\n",
      "4/4 [==============================] - 2s 565ms/step - loss: 0.3934 - accuracy: 0.9062 - val_loss: 0.2375 - val_accuracy: 0.9688\n",
      "Epoch 60/100\n",
      "4/4 [==============================] - 2s 545ms/step - loss: 0.3216 - accuracy: 0.9219 - val_loss: 0.0559 - val_accuracy: 0.9688\n",
      "Epoch 61/100\n",
      "4/4 [==============================] - 2s 550ms/step - loss: 0.3103 - accuracy: 0.9141 - val_loss: 0.3057 - val_accuracy: 0.9375\n",
      "Epoch 62/100\n",
      "4/4 [==============================] - 2s 532ms/step - loss: 0.5129 - accuracy: 0.9141 - val_loss: 0.3423 - val_accuracy: 0.9375\n",
      "Epoch 63/100\n",
      "4/4 [==============================] - 2s 451ms/step - loss: 0.3641 - accuracy: 0.9189 - val_loss: 0.0057 - val_accuracy: 1.0000\n",
      "Epoch 64/100\n",
      "4/4 [==============================] - 2s 532ms/step - loss: 0.2222 - accuracy: 0.9531 - val_loss: 0.1627 - val_accuracy: 0.9688\n",
      "Epoch 65/100\n",
      "4/4 [==============================] - 2s 541ms/step - loss: 0.3313 - accuracy: 0.9141 - val_loss: 0.1098 - val_accuracy: 0.9375\n",
      "Epoch 66/100\n",
      "4/4 [==============================] - 2s 552ms/step - loss: 0.2063 - accuracy: 0.9531 - val_loss: 0.1207 - val_accuracy: 0.9062\n",
      "Epoch 67/100\n",
      "4/4 [==============================] - 2s 548ms/step - loss: 0.2677 - accuracy: 0.9141 - val_loss: 0.1318 - val_accuracy: 0.9062\n",
      "Epoch 68/100\n",
      "4/4 [==============================] - 2s 540ms/step - loss: 0.4615 - accuracy: 0.9141 - val_loss: 0.2368 - val_accuracy: 0.9375\n",
      "Epoch 69/100\n",
      "4/4 [==============================] - 2s 461ms/step - loss: 0.2404 - accuracy: 0.9189 - val_loss: 0.2023 - val_accuracy: 0.9375\n",
      "Epoch 70/100\n",
      "4/4 [==============================] - 2s 543ms/step - loss: 0.6596 - accuracy: 0.8828 - val_loss: 0.2338 - val_accuracy: 0.9375\n",
      "Epoch 71/100\n",
      "4/4 [==============================] - 2s 540ms/step - loss: 0.1274 - accuracy: 0.9609 - val_loss: 0.0617 - val_accuracy: 0.9688\n",
      "Epoch 72/100\n",
      "4/4 [==============================] - 2s 545ms/step - loss: 0.3377 - accuracy: 0.9375 - val_loss: 0.1415 - val_accuracy: 0.9375\n",
      "Epoch 73/100\n",
      "4/4 [==============================] - 2s 539ms/step - loss: 0.4417 - accuracy: 0.9062 - val_loss: 0.0756 - val_accuracy: 0.9688\n",
      "Epoch 74/100\n",
      "4/4 [==============================] - 2s 545ms/step - loss: 0.6233 - accuracy: 0.8750 - val_loss: 0.2083 - val_accuracy: 0.9062\n",
      "Epoch 75/100\n",
      "4/4 [==============================] - 2s 569ms/step - loss: 0.5610 - accuracy: 0.9141 - val_loss: 0.2230 - val_accuracy: 0.9375\n",
      "Epoch 76/100\n",
      "4/4 [==============================] - 2s 534ms/step - loss: 0.3338 - accuracy: 0.9189 - val_loss: 0.1619 - val_accuracy: 0.9688\n",
      "Epoch 77/100\n",
      "4/4 [==============================] - 2s 544ms/step - loss: 0.4167 - accuracy: 0.8906 - val_loss: 0.1201 - val_accuracy: 0.9375\n",
      "Epoch 78/100\n",
      "4/4 [==============================] - 2s 564ms/step - loss: 0.1520 - accuracy: 0.9640 - val_loss: 0.0352 - val_accuracy: 0.9688\n",
      "Epoch 79/100\n",
      "4/4 [==============================] - 2s 549ms/step - loss: 0.3486 - accuracy: 0.9219 - val_loss: 0.0044 - val_accuracy: 1.0000\n",
      "Epoch 80/100\n",
      "4/4 [==============================] - 2s 556ms/step - loss: 0.2961 - accuracy: 0.9141 - val_loss: 0.2767 - val_accuracy: 0.9375\n",
      "Epoch 81/100\n",
      "4/4 [==============================] - 2s 461ms/step - loss: 0.4094 - accuracy: 0.9009 - val_loss: 0.4483 - val_accuracy: 0.9375\n",
      "Epoch 82/100\n",
      "4/4 [==============================] - 2s 547ms/step - loss: 0.3996 - accuracy: 0.9062 - val_loss: 0.3142 - val_accuracy: 0.9062\n",
      "Epoch 83/100\n",
      "4/4 [==============================] - 2s 531ms/step - loss: 0.3583 - accuracy: 0.9141 - val_loss: 0.0262 - val_accuracy: 1.0000\n",
      "Epoch 84/100\n",
      "4/4 [==============================] - 2s 547ms/step - loss: 0.3080 - accuracy: 0.9531 - val_loss: 0.0971 - val_accuracy: 0.9688\n",
      "Epoch 85/100\n",
      "4/4 [==============================] - 2s 531ms/step - loss: 0.2200 - accuracy: 0.9688 - val_loss: 0.1797 - val_accuracy: 0.9375\n",
      "Epoch 86/100\n",
      "4/4 [==============================] - 2s 537ms/step - loss: 0.3770 - accuracy: 0.9062 - val_loss: 0.1760 - val_accuracy: 0.9688\n",
      "Epoch 87/100\n",
      "4/4 [==============================] - 2s 460ms/step - loss: 0.3347 - accuracy: 0.9459 - val_loss: 0.0865 - val_accuracy: 0.9688\n",
      "Epoch 88/100\n",
      "4/4 [==============================] - 2s 537ms/step - loss: 0.2913 - accuracy: 0.9141 - val_loss: 0.9974 - val_accuracy: 0.8750\n",
      "Epoch 89/100\n",
      "4/4 [==============================] - 2s 553ms/step - loss: 0.4965 - accuracy: 0.8594 - val_loss: 0.0435 - val_accuracy: 1.0000\n",
      "Epoch 90/100\n",
      "4/4 [==============================] - 2s 563ms/step - loss: 0.6793 - accuracy: 0.8750 - val_loss: 0.1245 - val_accuracy: 0.9375\n",
      "Epoch 91/100\n",
      "4/4 [==============================] - 2s 563ms/step - loss: 0.4869 - accuracy: 0.8906 - val_loss: 0.0837 - val_accuracy: 0.9688\n",
      "Epoch 92/100\n",
      "4/4 [==============================] - 2s 576ms/step - loss: 0.8185 - accuracy: 0.8750 - val_loss: 0.3583 - val_accuracy: 0.8750\n",
      "Epoch 93/100\n",
      "4/4 [==============================] - 2s 588ms/step - loss: 0.3661 - accuracy: 0.9141 - val_loss: 0.2714 - val_accuracy: 0.9688\n",
      "Epoch 94/100\n",
      "4/4 [==============================] - 2s 560ms/step - loss: 0.5753 - accuracy: 0.9141 - val_loss: 0.0915 - val_accuracy: 0.9375\n",
      "Epoch 95/100\n",
      "4/4 [==============================] - 2s 555ms/step - loss: 0.3162 - accuracy: 0.9219 - val_loss: 0.0334 - val_accuracy: 0.9688\n",
      "Epoch 96/100\n",
      "4/4 [==============================] - 2s 542ms/step - loss: 0.1731 - accuracy: 0.9453 - val_loss: 0.3305 - val_accuracy: 0.9375\n",
      "Epoch 97/100\n",
      "4/4 [==============================] - 2s 472ms/step - loss: 0.0642 - accuracy: 0.9550 - val_loss: 0.1743 - val_accuracy: 0.9375\n",
      "Epoch 98/100\n",
      "4/4 [==============================] - 2s 553ms/step - loss: 0.3745 - accuracy: 0.9453 - val_loss: 0.0123 - val_accuracy: 1.0000\n",
      "Epoch 99/100\n",
      "4/4 [==============================] - 2s 541ms/step - loss: 0.2494 - accuracy: 0.9297 - val_loss: 0.2563 - val_accuracy: 0.9688\n",
      "Epoch 100/100\n",
      "4/4 [==============================] - 2s 450ms/step - loss: 0.0987 - accuracy: 0.9640 - val_loss: 0.5731 - val_accuracy: 0.8750\n"
     ]
    }
   ],
   "source": [
    "# fit the model\n",
    "r = model.fit_generator(\n",
    "  training_set,\n",
    "  validation_data=test_set,\n",
    "  epochs=100,\n",
    "  steps_per_epoch=len(training_set)//5,\n",
    "  validation_steps=len(test_set)//5\n",
    ")"
   ]
  },
  {
   "cell_type": "code",
   "execution_count": null,
   "metadata": {
    "id": "jP6uc-mt54yR"
   },
   "outputs": [],
   "source": [
    "model.save('Xception-nail-detection.h5')"
   ]
  },
  {
   "cell_type": "code",
   "execution_count": null,
   "metadata": {
    "id": "YQrGgYZg541z"
   },
   "outputs": [],
   "source": []
  },
  {
   "cell_type": "markdown",
   "metadata": {
    "id": "bBrlwn9fA39a"
   },
   "source": [
    "# Testing"
   ]
  },
  {
   "cell_type": "code",
   "execution_count": null,
   "metadata": {
    "id": "xUwhUsoS549x"
   },
   "outputs": [],
   "source": [
    "#import load_model class for loading h5 file\n",
    "from tensorflow.keras.models import load_model\n",
    "#import image class to process the images\n",
    "from tensorflow.keras.preprocessing import image\n",
    "from tensorflow.keras.applications.inception_v3 import preprocess_input\n",
    "import numpy as np"
   ]
  },
  {
   "cell_type": "code",
   "execution_count": null,
   "metadata": {
    "id": "nk_vRhq_xks2"
   },
   "outputs": [],
   "source": [
    "#load saved model file\n",
    "model=load_model('Xception-nail-detection.h5')"
   ]
  },
  {
   "cell_type": "code",
   "execution_count": null,
   "metadata": {
    "id": "gugrYP5zxkvq"
   },
   "outputs": [],
   "source": [
    "#load one random image from local system\n",
    "img=image.load_img(r'24.PNG',target_size=(224,224))"
   ]
  },
  {
   "cell_type": "code",
   "execution_count": null,
   "metadata": {
    "id": "sriHl243xkya"
   },
   "outputs": [],
   "source": [
    "#convert image to array format\n",
    "x=image.img_to_array(img)"
   ]
  },
  {
   "cell_type": "code",
   "execution_count": null,
   "metadata": {
    "colab": {
     "base_uri": "https://localhost:8080/"
    },
    "id": "igz_wxLfxvCy",
    "outputId": "c41cf7e7-1df0-4338-a683-51e6a733104d"
   },
   "outputs": [
    {
     "data": {
      "text/plain": [
       "(224, 224, 3)"
      ]
     },
     "execution_count": 30,
     "metadata": {},
     "output_type": "execute_result"
    }
   ],
   "source": [
    "x.shape"
   ]
  },
  {
   "cell_type": "code",
   "execution_count": null,
   "metadata": {
    "colab": {
     "base_uri": "https://localhost:8080/"
    },
    "id": "FdCwMr_iyi6J",
    "outputId": "22e8cd22-1619-4b61-931d-a64bda8368f2"
   },
   "outputs": [
    {
     "data": {
      "text/plain": [
       "(1, 224, 224, 3)"
      ]
     },
     "execution_count": 31,
     "metadata": {},
     "output_type": "execute_result"
    }
   ],
   "source": [
    "import numpy as np\n",
    "x=np.expand_dims(x,axis=0)\n",
    "img_data=preprocess_input(x)\n",
    "img_data.shape"
   ]
  },
  {
   "cell_type": "code",
   "execution_count": null,
   "metadata": {
    "colab": {
     "base_uri": "https://localhost:8080/"
    },
    "id": "Jovp01nXyi-B",
    "outputId": "211baf16-e174-488a-9baa-06f15813e4b4"
   },
   "outputs": [
    {
     "data": {
      "text/plain": [
       "array([[2.9984458e-15, 7.6089725e-12, 1.0222684e-10, 3.8761911e-24,\n",
       "        1.4576649e-19, 9.7918441e-24, 3.3861684e-15, 1.9744651e-14,\n",
       "        9.9981230e-01, 3.2096235e-12, 7.6583198e-11, 3.5267099e-08,\n",
       "        7.3118429e-19, 2.5452735e-14, 1.7887188e-16, 1.8776645e-04,\n",
       "        3.6237039e-17]], dtype=float32)"
      ]
     },
     "execution_count": 32,
     "metadata": {},
     "output_type": "execute_result"
    }
   ],
   "source": [
    "model.predict(img_data)"
   ]
  },
  {
   "cell_type": "code",
   "execution_count": null,
   "metadata": {
    "id": "FtCiKXcEZ3_r"
   },
   "outputs": [],
   "source": [
    "output=np.argmax(model.predict(img_data), axis=1)\n"
   ]
  },
  {
   "cell_type": "code",
   "execution_count": null,
   "metadata": {
    "colab": {
     "base_uri": "https://localhost:8080/"
    },
    "id": "JAxHkvU_Z6FT",
    "outputId": "872d8be9-5b4c-4dcb-f391-5e2e63159570"
   },
   "outputs": [
    {
     "data": {
      "text/plain": [
       "(array([False]),\n",
       " array([False]),\n",
       " array([False]),\n",
       " array([False]),\n",
       " array([False]),\n",
       " array([False]),\n",
       " array([False]),\n",
       " array([False]),\n",
       " array([ True]),\n",
       " array([False]),\n",
       " array([False]),\n",
       " array([False]),\n",
       " array([False]),\n",
       " array([False]),\n",
       " array([False]),\n",
       " array([False]),\n",
       " array([False]))"
      ]
     },
     "execution_count": 34,
     "metadata": {},
     "output_type": "execute_result"
    }
   ],
   "source": [
    "output==0,output==1,output==2,output==3,output==4,output==5,output==6,output==7,output==8,output==9,output==10,output==11,output==12,output==13,output==14,output==15,output==16"
   ]
  },
  {
   "cell_type": "code",
   "execution_count": null,
   "metadata": {
    "colab": {
     "base_uri": "https://localhost:8080/"
    },
    "id": "74O7M6nwyjAd",
    "outputId": "5ca1f74d-63f6-42f0-8137-8c651759ef48"
   },
   "outputs": [
    {
     "data": {
      "text/plain": [
       "array([8])"
      ]
     },
     "execution_count": 35,
     "metadata": {},
     "output_type": "execute_result"
    }
   ],
   "source": [
    "output=np.argmax(model.predict(img_data), axis=1)\n",
    "output"
   ]
  },
  {
   "cell_type": "code",
   "execution_count": null,
   "metadata": {
    "colab": {
     "base_uri": "https://localhost:8080/",
     "height": 35
    },
    "id": "ASjY1RoqyjDJ",
    "outputId": "d443ce0e-e42d-41c6-9f8e-a4e153b090d5"
   },
   "outputs": [
    {
     "data": {
      "application/vnd.google.colaboratory.intrinsic+json": {
       "type": "string"
      },
      "text/plain": [
       "'koilonychia'"
      ]
     },
     "execution_count": 36,
     "metadata": {},
     "output_type": "execute_result"
    }
   ],
   "source": [
    "index=['Darier_s disease', 'Muehrck-e_s lines', 'aloperia areata', 'beau_s lines', 'bluish nail',\n",
    "       'clubbing','eczema','half and half nailes (Lindsay_s nails)','koilonychia','leukonychia',\n",
    "       'onycholycis','pale nail','red lunula','splinter hemmorrage','terry_s nail','white nail','yellow nails']\n",
    "result = str(index[output[0]])\n",
    "result"
   ]
  }
 ],
 "metadata": {
  "accelerator": "GPU",
  "colab": {
   "collapsed_sections": [],
   "name": "VEC_research_Nail_Detection_using_Xception.ipynb",
   "provenance": []
  },
  "kernelspec": {
   "display_name": "Python 3",
   "language": "python",
   "name": "python3"
  },
  "language_info": {
   "codemirror_mode": {
    "name": "ipython",
    "version": 3
   },
   "file_extension": ".py",
   "mimetype": "text/x-python",
   "name": "python",
   "nbconvert_exporter": "python",
   "pygments_lexer": "ipython3",
   "version": "3.6.9"
  }
 },
 "nbformat": 4,
 "nbformat_minor": 1
}
