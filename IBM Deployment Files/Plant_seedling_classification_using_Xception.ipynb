{
 "cells": [
  {
   "cell_type": "code",
   "execution_count": 2,
   "metadata": {
    "id": "aeGKNCUSUNLM"
   },
   "outputs": [],
   "source": [
    "from tensorflow.keras.layers import Dense, Flatten, Input \n",
    "from tensorflow.keras.models import Model\n",
    "from tensorflow.keras.preprocessing import image\n",
    "from tensorflow.keras.preprocessing.image import ImageDataGenerator, load_img\n",
    "from tensorflow.keras.applications.xception import Xception, preprocess_input\n",
    "from glob import glob\n",
    "import numpy as np\n",
    "import matplotlib.pyplot as plt\n"
   ]
  },
  {
   "cell_type": "code",
   "execution_count": 3,
   "metadata": {
    "colab": {
     "base_uri": "https://localhost:8080/"
    },
    "id": "8IOnNmfg2j8r",
    "outputId": "ad564514-29e7-408f-bce8-b338c288050c"
   },
   "outputs": [
    {
     "name": "stdout",
     "output_type": "stream",
     "text": [
      "Mounted at /content/drive\n"
     ]
    }
   ],
   "source": [
    "from google.colab import drive\n",
    "drive.mount('/content/drive')"
   ]
  },
  {
   "cell_type": "code",
   "execution_count": 4,
   "metadata": {
    "id": "zZN1ORr14vNs"
   },
   "outputs": [],
   "source": [
    "imageSize = [224, 224]\n",
    "\n",
    "trainPath = r\"/content/drive/MyDrive/Public datasets/Plant seedling/train\"\n",
    "\n",
    "testPath = r\"/content/drive/MyDrive/Public datasets/Plant seedling/test\"\n"
   ]
  },
  {
   "cell_type": "code",
   "execution_count": 5,
   "metadata": {
    "colab": {
     "base_uri": "https://localhost:8080/"
    },
    "id": "YsIZ4G_P4vQe",
    "outputId": "e2969895-4dfd-4361-e557-c7ef001b9a93"
   },
   "outputs": [
    {
     "name": "stdout",
     "output_type": "stream",
     "text": [
      "Downloading data from https://storage.googleapis.com/tensorflow/keras-applications/xception/xception_weights_tf_dim_ordering_tf_kernels_notop.h5\n",
      "83689472/83683744 [==============================] - 1s 0us/step\n",
      "83697664/83683744 [==============================] - 1s 0us/step\n"
     ]
    }
   ],
   "source": [
    "xception = Xception(input_shape=imageSize + [3], weights='imagenet',include_top=False)"
   ]
  },
  {
   "cell_type": "code",
   "execution_count": 6,
   "metadata": {
    "id": "dwojVXYP4vTk"
   },
   "outputs": [],
   "source": [
    "# don't train existing weights\n",
    "for layer in xception.layers:\n",
    "  layer.trainable = False"
   ]
  },
  {
   "cell_type": "code",
   "execution_count": 7,
   "metadata": {
    "id": "XkxOg-qV4vWC"
   },
   "outputs": [],
   "source": [
    "# our layers - you can add more if you want\n",
    "x = Flatten()(xception.output)"
   ]
  },
  {
   "cell_type": "code",
   "execution_count": 8,
   "metadata": {
    "id": "pg7T_N2J4vZQ"
   },
   "outputs": [],
   "source": [
    "prediction = Dense(12, activation='softmax')(x)"
   ]
  },
  {
   "cell_type": "code",
   "execution_count": 9,
   "metadata": {
    "id": "MeOdcC7I4vbj"
   },
   "outputs": [],
   "source": [
    "# create a model object\n",
    "model = Model(inputs=xception.input, outputs=prediction)"
   ]
  },
  {
   "cell_type": "code",
   "execution_count": 10,
   "metadata": {
    "colab": {
     "base_uri": "https://localhost:8080/"
    },
    "id": "huPoR0mb5qJV",
    "outputId": "278efb20-44a9-4cf3-abb4-1c60a9afd909"
   },
   "outputs": [
    {
     "name": "stdout",
     "output_type": "stream",
     "text": [
      "Model: \"model\"\n",
      "__________________________________________________________________________________________________\n",
      " Layer (type)                   Output Shape         Param #     Connected to                     \n",
      "==================================================================================================\n",
      " input_1 (InputLayer)           [(None, 224, 224, 3  0           []                               \n",
      "                                )]                                                                \n",
      "                                                                                                  \n",
      " block1_conv1 (Conv2D)          (None, 111, 111, 32  864         ['input_1[0][0]']                \n",
      "                                )                                                                 \n",
      "                                                                                                  \n",
      " block1_conv1_bn (BatchNormaliz  (None, 111, 111, 32  128        ['block1_conv1[0][0]']           \n",
      " ation)                         )                                                                 \n",
      "                                                                                                  \n",
      " block1_conv1_act (Activation)  (None, 111, 111, 32  0           ['block1_conv1_bn[0][0]']        \n",
      "                                )                                                                 \n",
      "                                                                                                  \n",
      " block1_conv2 (Conv2D)          (None, 109, 109, 64  18432       ['block1_conv1_act[0][0]']       \n",
      "                                )                                                                 \n",
      "                                                                                                  \n",
      " block1_conv2_bn (BatchNormaliz  (None, 109, 109, 64  256        ['block1_conv2[0][0]']           \n",
      " ation)                         )                                                                 \n",
      "                                                                                                  \n",
      " block1_conv2_act (Activation)  (None, 109, 109, 64  0           ['block1_conv2_bn[0][0]']        \n",
      "                                )                                                                 \n",
      "                                                                                                  \n",
      " block2_sepconv1 (SeparableConv  (None, 109, 109, 12  8768       ['block1_conv2_act[0][0]']       \n",
      " 2D)                            8)                                                                \n",
      "                                                                                                  \n",
      " block2_sepconv1_bn (BatchNorma  (None, 109, 109, 12  512        ['block2_sepconv1[0][0]']        \n",
      " lization)                      8)                                                                \n",
      "                                                                                                  \n",
      " block2_sepconv2_act (Activatio  (None, 109, 109, 12  0          ['block2_sepconv1_bn[0][0]']     \n",
      " n)                             8)                                                                \n",
      "                                                                                                  \n",
      " block2_sepconv2 (SeparableConv  (None, 109, 109, 12  17536      ['block2_sepconv2_act[0][0]']    \n",
      " 2D)                            8)                                                                \n",
      "                                                                                                  \n",
      " block2_sepconv2_bn (BatchNorma  (None, 109, 109, 12  512        ['block2_sepconv2[0][0]']        \n",
      " lization)                      8)                                                                \n",
      "                                                                                                  \n",
      " conv2d (Conv2D)                (None, 55, 55, 128)  8192        ['block1_conv2_act[0][0]']       \n",
      "                                                                                                  \n",
      " block2_pool (MaxPooling2D)     (None, 55, 55, 128)  0           ['block2_sepconv2_bn[0][0]']     \n",
      "                                                                                                  \n",
      " batch_normalization (BatchNorm  (None, 55, 55, 128)  512        ['conv2d[0][0]']                 \n",
      " alization)                                                                                       \n",
      "                                                                                                  \n",
      " add (Add)                      (None, 55, 55, 128)  0           ['block2_pool[0][0]',            \n",
      "                                                                  'batch_normalization[0][0]']    \n",
      "                                                                                                  \n",
      " block3_sepconv1_act (Activatio  (None, 55, 55, 128)  0          ['add[0][0]']                    \n",
      " n)                                                                                               \n",
      "                                                                                                  \n",
      " block3_sepconv1 (SeparableConv  (None, 55, 55, 256)  33920      ['block3_sepconv1_act[0][0]']    \n",
      " 2D)                                                                                              \n",
      "                                                                                                  \n",
      " block3_sepconv1_bn (BatchNorma  (None, 55, 55, 256)  1024       ['block3_sepconv1[0][0]']        \n",
      " lization)                                                                                        \n",
      "                                                                                                  \n",
      " block3_sepconv2_act (Activatio  (None, 55, 55, 256)  0          ['block3_sepconv1_bn[0][0]']     \n",
      " n)                                                                                               \n",
      "                                                                                                  \n",
      " block3_sepconv2 (SeparableConv  (None, 55, 55, 256)  67840      ['block3_sepconv2_act[0][0]']    \n",
      " 2D)                                                                                              \n",
      "                                                                                                  \n",
      " block3_sepconv2_bn (BatchNorma  (None, 55, 55, 256)  1024       ['block3_sepconv2[0][0]']        \n",
      " lization)                                                                                        \n",
      "                                                                                                  \n",
      " conv2d_1 (Conv2D)              (None, 28, 28, 256)  32768       ['add[0][0]']                    \n",
      "                                                                                                  \n",
      " block3_pool (MaxPooling2D)     (None, 28, 28, 256)  0           ['block3_sepconv2_bn[0][0]']     \n",
      "                                                                                                  \n",
      " batch_normalization_1 (BatchNo  (None, 28, 28, 256)  1024       ['conv2d_1[0][0]']               \n",
      " rmalization)                                                                                     \n",
      "                                                                                                  \n",
      " add_1 (Add)                    (None, 28, 28, 256)  0           ['block3_pool[0][0]',            \n",
      "                                                                  'batch_normalization_1[0][0]']  \n",
      "                                                                                                  \n",
      " block4_sepconv1_act (Activatio  (None, 28, 28, 256)  0          ['add_1[0][0]']                  \n",
      " n)                                                                                               \n",
      "                                                                                                  \n",
      " block4_sepconv1 (SeparableConv  (None, 28, 28, 728)  188672     ['block4_sepconv1_act[0][0]']    \n",
      " 2D)                                                                                              \n",
      "                                                                                                  \n",
      " block4_sepconv1_bn (BatchNorma  (None, 28, 28, 728)  2912       ['block4_sepconv1[0][0]']        \n",
      " lization)                                                                                        \n",
      "                                                                                                  \n",
      " block4_sepconv2_act (Activatio  (None, 28, 28, 728)  0          ['block4_sepconv1_bn[0][0]']     \n",
      " n)                                                                                               \n",
      "                                                                                                  \n",
      " block4_sepconv2 (SeparableConv  (None, 28, 28, 728)  536536     ['block4_sepconv2_act[0][0]']    \n",
      " 2D)                                                                                              \n",
      "                                                                                                  \n",
      " block4_sepconv2_bn (BatchNorma  (None, 28, 28, 728)  2912       ['block4_sepconv2[0][0]']        \n",
      " lization)                                                                                        \n",
      "                                                                                                  \n",
      " conv2d_2 (Conv2D)              (None, 14, 14, 728)  186368      ['add_1[0][0]']                  \n",
      "                                                                                                  \n",
      " block4_pool (MaxPooling2D)     (None, 14, 14, 728)  0           ['block4_sepconv2_bn[0][0]']     \n",
      "                                                                                                  \n",
      " batch_normalization_2 (BatchNo  (None, 14, 14, 728)  2912       ['conv2d_2[0][0]']               \n",
      " rmalization)                                                                                     \n",
      "                                                                                                  \n",
      " add_2 (Add)                    (None, 14, 14, 728)  0           ['block4_pool[0][0]',            \n",
      "                                                                  'batch_normalization_2[0][0]']  \n",
      "                                                                                                  \n",
      " block5_sepconv1_act (Activatio  (None, 14, 14, 728)  0          ['add_2[0][0]']                  \n",
      " n)                                                                                               \n",
      "                                                                                                  \n",
      " block5_sepconv1 (SeparableConv  (None, 14, 14, 728)  536536     ['block5_sepconv1_act[0][0]']    \n",
      " 2D)                                                                                              \n",
      "                                                                                                  \n",
      " block5_sepconv1_bn (BatchNorma  (None, 14, 14, 728)  2912       ['block5_sepconv1[0][0]']        \n",
      " lization)                                                                                        \n",
      "                                                                                                  \n",
      " block5_sepconv2_act (Activatio  (None, 14, 14, 728)  0          ['block5_sepconv1_bn[0][0]']     \n",
      " n)                                                                                               \n",
      "                                                                                                  \n",
      " block5_sepconv2 (SeparableConv  (None, 14, 14, 728)  536536     ['block5_sepconv2_act[0][0]']    \n",
      " 2D)                                                                                              \n",
      "                                                                                                  \n",
      " block5_sepconv2_bn (BatchNorma  (None, 14, 14, 728)  2912       ['block5_sepconv2[0][0]']        \n",
      " lization)                                                                                        \n",
      "                                                                                                  \n",
      " block5_sepconv3_act (Activatio  (None, 14, 14, 728)  0          ['block5_sepconv2_bn[0][0]']     \n",
      " n)                                                                                               \n",
      "                                                                                                  \n",
      " block5_sepconv3 (SeparableConv  (None, 14, 14, 728)  536536     ['block5_sepconv3_act[0][0]']    \n",
      " 2D)                                                                                              \n",
      "                                                                                                  \n",
      " block5_sepconv3_bn (BatchNorma  (None, 14, 14, 728)  2912       ['block5_sepconv3[0][0]']        \n",
      " lization)                                                                                        \n",
      "                                                                                                  \n",
      " add_3 (Add)                    (None, 14, 14, 728)  0           ['block5_sepconv3_bn[0][0]',     \n",
      "                                                                  'add_2[0][0]']                  \n",
      "                                                                                                  \n",
      " block6_sepconv1_act (Activatio  (None, 14, 14, 728)  0          ['add_3[0][0]']                  \n",
      " n)                                                                                               \n",
      "                                                                                                  \n",
      " block6_sepconv1 (SeparableConv  (None, 14, 14, 728)  536536     ['block6_sepconv1_act[0][0]']    \n",
      " 2D)                                                                                              \n",
      "                                                                                                  \n",
      " block6_sepconv1_bn (BatchNorma  (None, 14, 14, 728)  2912       ['block6_sepconv1[0][0]']        \n",
      " lization)                                                                                        \n",
      "                                                                                                  \n",
      " block6_sepconv2_act (Activatio  (None, 14, 14, 728)  0          ['block6_sepconv1_bn[0][0]']     \n",
      " n)                                                                                               \n",
      "                                                                                                  \n",
      " block6_sepconv2 (SeparableConv  (None, 14, 14, 728)  536536     ['block6_sepconv2_act[0][0]']    \n",
      " 2D)                                                                                              \n",
      "                                                                                                  \n",
      " block6_sepconv2_bn (BatchNorma  (None, 14, 14, 728)  2912       ['block6_sepconv2[0][0]']        \n",
      " lization)                                                                                        \n",
      "                                                                                                  \n",
      " block6_sepconv3_act (Activatio  (None, 14, 14, 728)  0          ['block6_sepconv2_bn[0][0]']     \n",
      " n)                                                                                               \n",
      "                                                                                                  \n",
      " block6_sepconv3 (SeparableConv  (None, 14, 14, 728)  536536     ['block6_sepconv3_act[0][0]']    \n",
      " 2D)                                                                                              \n",
      "                                                                                                  \n",
      " block6_sepconv3_bn (BatchNorma  (None, 14, 14, 728)  2912       ['block6_sepconv3[0][0]']        \n",
      " lization)                                                                                        \n",
      "                                                                                                  \n",
      " add_4 (Add)                    (None, 14, 14, 728)  0           ['block6_sepconv3_bn[0][0]',     \n",
      "                                                                  'add_3[0][0]']                  \n",
      "                                                                                                  \n",
      " block7_sepconv1_act (Activatio  (None, 14, 14, 728)  0          ['add_4[0][0]']                  \n",
      " n)                                                                                               \n",
      "                                                                                                  \n",
      " block7_sepconv1 (SeparableConv  (None, 14, 14, 728)  536536     ['block7_sepconv1_act[0][0]']    \n",
      " 2D)                                                                                              \n",
      "                                                                                                  \n",
      " block7_sepconv1_bn (BatchNorma  (None, 14, 14, 728)  2912       ['block7_sepconv1[0][0]']        \n",
      " lization)                                                                                        \n",
      "                                                                                                  \n",
      " block7_sepconv2_act (Activatio  (None, 14, 14, 728)  0          ['block7_sepconv1_bn[0][0]']     \n",
      " n)                                                                                               \n",
      "                                                                                                  \n",
      " block7_sepconv2 (SeparableConv  (None, 14, 14, 728)  536536     ['block7_sepconv2_act[0][0]']    \n",
      " 2D)                                                                                              \n",
      "                                                                                                  \n",
      " block7_sepconv2_bn (BatchNorma  (None, 14, 14, 728)  2912       ['block7_sepconv2[0][0]']        \n",
      " lization)                                                                                        \n",
      "                                                                                                  \n",
      " block7_sepconv3_act (Activatio  (None, 14, 14, 728)  0          ['block7_sepconv2_bn[0][0]']     \n",
      " n)                                                                                               \n",
      "                                                                                                  \n",
      " block7_sepconv3 (SeparableConv  (None, 14, 14, 728)  536536     ['block7_sepconv3_act[0][0]']    \n",
      " 2D)                                                                                              \n",
      "                                                                                                  \n",
      " block7_sepconv3_bn (BatchNorma  (None, 14, 14, 728)  2912       ['block7_sepconv3[0][0]']        \n",
      " lization)                                                                                        \n",
      "                                                                                                  \n",
      " add_5 (Add)                    (None, 14, 14, 728)  0           ['block7_sepconv3_bn[0][0]',     \n",
      "                                                                  'add_4[0][0]']                  \n",
      "                                                                                                  \n",
      " block8_sepconv1_act (Activatio  (None, 14, 14, 728)  0          ['add_5[0][0]']                  \n",
      " n)                                                                                               \n",
      "                                                                                                  \n",
      " block8_sepconv1 (SeparableConv  (None, 14, 14, 728)  536536     ['block8_sepconv1_act[0][0]']    \n",
      " 2D)                                                                                              \n",
      "                                                                                                  \n",
      " block8_sepconv1_bn (BatchNorma  (None, 14, 14, 728)  2912       ['block8_sepconv1[0][0]']        \n",
      " lization)                                                                                        \n",
      "                                                                                                  \n",
      " block8_sepconv2_act (Activatio  (None, 14, 14, 728)  0          ['block8_sepconv1_bn[0][0]']     \n",
      " n)                                                                                               \n",
      "                                                                                                  \n",
      " block8_sepconv2 (SeparableConv  (None, 14, 14, 728)  536536     ['block8_sepconv2_act[0][0]']    \n",
      " 2D)                                                                                              \n",
      "                                                                                                  \n",
      " block8_sepconv2_bn (BatchNorma  (None, 14, 14, 728)  2912       ['block8_sepconv2[0][0]']        \n",
      " lization)                                                                                        \n",
      "                                                                                                  \n",
      " block8_sepconv3_act (Activatio  (None, 14, 14, 728)  0          ['block8_sepconv2_bn[0][0]']     \n",
      " n)                                                                                               \n",
      "                                                                                                  \n",
      " block8_sepconv3 (SeparableConv  (None, 14, 14, 728)  536536     ['block8_sepconv3_act[0][0]']    \n",
      " 2D)                                                                                              \n",
      "                                                                                                  \n",
      " block8_sepconv3_bn (BatchNorma  (None, 14, 14, 728)  2912       ['block8_sepconv3[0][0]']        \n",
      " lization)                                                                                        \n",
      "                                                                                                  \n",
      " add_6 (Add)                    (None, 14, 14, 728)  0           ['block8_sepconv3_bn[0][0]',     \n",
      "                                                                  'add_5[0][0]']                  \n",
      "                                                                                                  \n",
      " block9_sepconv1_act (Activatio  (None, 14, 14, 728)  0          ['add_6[0][0]']                  \n",
      " n)                                                                                               \n",
      "                                                                                                  \n",
      " block9_sepconv1 (SeparableConv  (None, 14, 14, 728)  536536     ['block9_sepconv1_act[0][0]']    \n",
      " 2D)                                                                                              \n",
      "                                                                                                  \n",
      " block9_sepconv1_bn (BatchNorma  (None, 14, 14, 728)  2912       ['block9_sepconv1[0][0]']        \n",
      " lization)                                                                                        \n",
      "                                                                                                  \n",
      " block9_sepconv2_act (Activatio  (None, 14, 14, 728)  0          ['block9_sepconv1_bn[0][0]']     \n",
      " n)                                                                                               \n",
      "                                                                                                  \n",
      " block9_sepconv2 (SeparableConv  (None, 14, 14, 728)  536536     ['block9_sepconv2_act[0][0]']    \n",
      " 2D)                                                                                              \n",
      "                                                                                                  \n",
      " block9_sepconv2_bn (BatchNorma  (None, 14, 14, 728)  2912       ['block9_sepconv2[0][0]']        \n",
      " lization)                                                                                        \n",
      "                                                                                                  \n",
      " block9_sepconv3_act (Activatio  (None, 14, 14, 728)  0          ['block9_sepconv2_bn[0][0]']     \n",
      " n)                                                                                               \n",
      "                                                                                                  \n",
      " block9_sepconv3 (SeparableConv  (None, 14, 14, 728)  536536     ['block9_sepconv3_act[0][0]']    \n",
      " 2D)                                                                                              \n",
      "                                                                                                  \n",
      " block9_sepconv3_bn (BatchNorma  (None, 14, 14, 728)  2912       ['block9_sepconv3[0][0]']        \n",
      " lization)                                                                                        \n",
      "                                                                                                  \n",
      " add_7 (Add)                    (None, 14, 14, 728)  0           ['block9_sepconv3_bn[0][0]',     \n",
      "                                                                  'add_6[0][0]']                  \n",
      "                                                                                                  \n",
      " block10_sepconv1_act (Activati  (None, 14, 14, 728)  0          ['add_7[0][0]']                  \n",
      " on)                                                                                              \n",
      "                                                                                                  \n",
      " block10_sepconv1 (SeparableCon  (None, 14, 14, 728)  536536     ['block10_sepconv1_act[0][0]']   \n",
      " v2D)                                                                                             \n",
      "                                                                                                  \n",
      " block10_sepconv1_bn (BatchNorm  (None, 14, 14, 728)  2912       ['block10_sepconv1[0][0]']       \n",
      " alization)                                                                                       \n",
      "                                                                                                  \n",
      " block10_sepconv2_act (Activati  (None, 14, 14, 728)  0          ['block10_sepconv1_bn[0][0]']    \n",
      " on)                                                                                              \n",
      "                                                                                                  \n",
      " block10_sepconv2 (SeparableCon  (None, 14, 14, 728)  536536     ['block10_sepconv2_act[0][0]']   \n",
      " v2D)                                                                                             \n",
      "                                                                                                  \n",
      " block10_sepconv2_bn (BatchNorm  (None, 14, 14, 728)  2912       ['block10_sepconv2[0][0]']       \n",
      " alization)                                                                                       \n",
      "                                                                                                  \n",
      " block10_sepconv3_act (Activati  (None, 14, 14, 728)  0          ['block10_sepconv2_bn[0][0]']    \n",
      " on)                                                                                              \n",
      "                                                                                                  \n",
      " block10_sepconv3 (SeparableCon  (None, 14, 14, 728)  536536     ['block10_sepconv3_act[0][0]']   \n",
      " v2D)                                                                                             \n",
      "                                                                                                  \n",
      " block10_sepconv3_bn (BatchNorm  (None, 14, 14, 728)  2912       ['block10_sepconv3[0][0]']       \n",
      " alization)                                                                                       \n",
      "                                                                                                  \n",
      " add_8 (Add)                    (None, 14, 14, 728)  0           ['block10_sepconv3_bn[0][0]',    \n",
      "                                                                  'add_7[0][0]']                  \n",
      "                                                                                                  \n",
      " block11_sepconv1_act (Activati  (None, 14, 14, 728)  0          ['add_8[0][0]']                  \n",
      " on)                                                                                              \n",
      "                                                                                                  \n",
      " block11_sepconv1 (SeparableCon  (None, 14, 14, 728)  536536     ['block11_sepconv1_act[0][0]']   \n",
      " v2D)                                                                                             \n",
      "                                                                                                  \n",
      " block11_sepconv1_bn (BatchNorm  (None, 14, 14, 728)  2912       ['block11_sepconv1[0][0]']       \n",
      " alization)                                                                                       \n",
      "                                                                                                  \n",
      " block11_sepconv2_act (Activati  (None, 14, 14, 728)  0          ['block11_sepconv1_bn[0][0]']    \n",
      " on)                                                                                              \n",
      "                                                                                                  \n",
      " block11_sepconv2 (SeparableCon  (None, 14, 14, 728)  536536     ['block11_sepconv2_act[0][0]']   \n",
      " v2D)                                                                                             \n",
      "                                                                                                  \n",
      " block11_sepconv2_bn (BatchNorm  (None, 14, 14, 728)  2912       ['block11_sepconv2[0][0]']       \n",
      " alization)                                                                                       \n",
      "                                                                                                  \n",
      " block11_sepconv3_act (Activati  (None, 14, 14, 728)  0          ['block11_sepconv2_bn[0][0]']    \n",
      " on)                                                                                              \n",
      "                                                                                                  \n",
      " block11_sepconv3 (SeparableCon  (None, 14, 14, 728)  536536     ['block11_sepconv3_act[0][0]']   \n",
      " v2D)                                                                                             \n",
      "                                                                                                  \n",
      " block11_sepconv3_bn (BatchNorm  (None, 14, 14, 728)  2912       ['block11_sepconv3[0][0]']       \n",
      " alization)                                                                                       \n",
      "                                                                                                  \n",
      " add_9 (Add)                    (None, 14, 14, 728)  0           ['block11_sepconv3_bn[0][0]',    \n",
      "                                                                  'add_8[0][0]']                  \n",
      "                                                                                                  \n",
      " block12_sepconv1_act (Activati  (None, 14, 14, 728)  0          ['add_9[0][0]']                  \n",
      " on)                                                                                              \n",
      "                                                                                                  \n",
      " block12_sepconv1 (SeparableCon  (None, 14, 14, 728)  536536     ['block12_sepconv1_act[0][0]']   \n",
      " v2D)                                                                                             \n",
      "                                                                                                  \n",
      " block12_sepconv1_bn (BatchNorm  (None, 14, 14, 728)  2912       ['block12_sepconv1[0][0]']       \n",
      " alization)                                                                                       \n",
      "                                                                                                  \n",
      " block12_sepconv2_act (Activati  (None, 14, 14, 728)  0          ['block12_sepconv1_bn[0][0]']    \n",
      " on)                                                                                              \n",
      "                                                                                                  \n",
      " block12_sepconv2 (SeparableCon  (None, 14, 14, 728)  536536     ['block12_sepconv2_act[0][0]']   \n",
      " v2D)                                                                                             \n",
      "                                                                                                  \n",
      " block12_sepconv2_bn (BatchNorm  (None, 14, 14, 728)  2912       ['block12_sepconv2[0][0]']       \n",
      " alization)                                                                                       \n",
      "                                                                                                  \n",
      " block12_sepconv3_act (Activati  (None, 14, 14, 728)  0          ['block12_sepconv2_bn[0][0]']    \n",
      " on)                                                                                              \n",
      "                                                                                                  \n",
      " block12_sepconv3 (SeparableCon  (None, 14, 14, 728)  536536     ['block12_sepconv3_act[0][0]']   \n",
      " v2D)                                                                                             \n",
      "                                                                                                  \n",
      " block12_sepconv3_bn (BatchNorm  (None, 14, 14, 728)  2912       ['block12_sepconv3[0][0]']       \n",
      " alization)                                                                                       \n",
      "                                                                                                  \n",
      " add_10 (Add)                   (None, 14, 14, 728)  0           ['block12_sepconv3_bn[0][0]',    \n",
      "                                                                  'add_9[0][0]']                  \n",
      "                                                                                                  \n",
      " block13_sepconv1_act (Activati  (None, 14, 14, 728)  0          ['add_10[0][0]']                 \n",
      " on)                                                                                              \n",
      "                                                                                                  \n",
      " block13_sepconv1 (SeparableCon  (None, 14, 14, 728)  536536     ['block13_sepconv1_act[0][0]']   \n",
      " v2D)                                                                                             \n",
      "                                                                                                  \n",
      " block13_sepconv1_bn (BatchNorm  (None, 14, 14, 728)  2912       ['block13_sepconv1[0][0]']       \n",
      " alization)                                                                                       \n",
      "                                                                                                  \n",
      " block13_sepconv2_act (Activati  (None, 14, 14, 728)  0          ['block13_sepconv1_bn[0][0]']    \n",
      " on)                                                                                              \n",
      "                                                                                                  \n",
      " block13_sepconv2 (SeparableCon  (None, 14, 14, 1024  752024     ['block13_sepconv2_act[0][0]']   \n",
      " v2D)                           )                                                                 \n",
      "                                                                                                  \n",
      " block13_sepconv2_bn (BatchNorm  (None, 14, 14, 1024  4096       ['block13_sepconv2[0][0]']       \n",
      " alization)                     )                                                                 \n",
      "                                                                                                  \n",
      " conv2d_3 (Conv2D)              (None, 7, 7, 1024)   745472      ['add_10[0][0]']                 \n",
      "                                                                                                  \n",
      " block13_pool (MaxPooling2D)    (None, 7, 7, 1024)   0           ['block13_sepconv2_bn[0][0]']    \n",
      "                                                                                                  \n",
      " batch_normalization_3 (BatchNo  (None, 7, 7, 1024)  4096        ['conv2d_3[0][0]']               \n",
      " rmalization)                                                                                     \n",
      "                                                                                                  \n",
      " add_11 (Add)                   (None, 7, 7, 1024)   0           ['block13_pool[0][0]',           \n",
      "                                                                  'batch_normalization_3[0][0]']  \n",
      "                                                                                                  \n",
      " block14_sepconv1 (SeparableCon  (None, 7, 7, 1536)  1582080     ['add_11[0][0]']                 \n",
      " v2D)                                                                                             \n",
      "                                                                                                  \n",
      " block14_sepconv1_bn (BatchNorm  (None, 7, 7, 1536)  6144        ['block14_sepconv1[0][0]']       \n",
      " alization)                                                                                       \n",
      "                                                                                                  \n",
      " block14_sepconv1_act (Activati  (None, 7, 7, 1536)  0           ['block14_sepconv1_bn[0][0]']    \n",
      " on)                                                                                              \n",
      "                                                                                                  \n",
      " block14_sepconv2 (SeparableCon  (None, 7, 7, 2048)  3159552     ['block14_sepconv1_act[0][0]']   \n",
      " v2D)                                                                                             \n",
      "                                                                                                  \n",
      " block14_sepconv2_bn (BatchNorm  (None, 7, 7, 2048)  8192        ['block14_sepconv2[0][0]']       \n",
      " alization)                                                                                       \n",
      "                                                                                                  \n",
      " block14_sepconv2_act (Activati  (None, 7, 7, 2048)  0           ['block14_sepconv2_bn[0][0]']    \n",
      " on)                                                                                              \n",
      "                                                                                                  \n",
      " flatten (Flatten)              (None, 100352)       0           ['block14_sepconv2_act[0][0]']   \n",
      "                                                                                                  \n",
      " dense (Dense)                  (None, 12)           1204236     ['flatten[0][0]']                \n",
      "                                                                                                  \n",
      "==================================================================================================\n",
      "Total params: 22,065,716\n",
      "Trainable params: 1,204,236\n",
      "Non-trainable params: 20,861,480\n",
      "__________________________________________________________________________________________________\n"
     ]
    }
   ],
   "source": [
    "# view the structure of the model\n",
    "model.summary()"
   ]
  },
  {
   "cell_type": "code",
   "execution_count": 11,
   "metadata": {
    "id": "4kz6OK1F5qNK"
   },
   "outputs": [],
   "source": [
    "# tell the model what cost and optimization method to use\n",
    "model.compile(\n",
    "  loss='categorical_crossentropy',\n",
    "  optimizer='adam',\n",
    "  metrics=['accuracy']\n",
    ")\n"
   ]
  },
  {
   "cell_type": "code",
   "execution_count": 12,
   "metadata": {
    "id": "kzpdjooX5qQK"
   },
   "outputs": [],
   "source": [
    "train_datagen = ImageDataGenerator(rescale = 1./255,\n",
    "                                   shear_range = 0.2,\n",
    "                                   zoom_range = 0.2,\n",
    "                                   horizontal_flip = True)\n",
    "\n",
    "test_datagen = ImageDataGenerator(rescale = 1./255)"
   ]
  },
  {
   "cell_type": "code",
   "execution_count": 13,
   "metadata": {
    "colab": {
     "base_uri": "https://localhost:8080/"
    },
    "id": "rCaJhCGG5qWi",
    "outputId": "b3a4c313-189b-468f-8f2d-189ede96650e"
   },
   "outputs": [
    {
     "name": "stdout",
     "output_type": "stream",
     "text": [
      "Found 3805 images belonging to 12 classes.\n",
      "Found 957 images belonging to 12 classes.\n"
     ]
    }
   ],
   "source": [
    "training_set = train_datagen.flow_from_directory(trainPath,\n",
    "                                                 target_size = (224, 224),\n",
    "                                                 batch_size = 32,\n",
    "                                                 class_mode = 'categorical')\n",
    "\n",
    "test_set = test_datagen.flow_from_directory(testPath,\n",
    "                                            target_size = (224,224),\n",
    "                                            batch_size = 32,\n",
    "                                            class_mode = 'categorical')"
   ]
  },
  {
   "cell_type": "code",
   "execution_count": 14,
   "metadata": {
    "colab": {
     "base_uri": "https://localhost:8080/"
    },
    "id": "E6sABffY54pU",
    "outputId": "d482e54f-1ba6-4837-b66b-fd09eb57ca1e"
   },
   "outputs": [
    {
     "metadata": {
      "tags": null
     },
     "name": "stderr",
     "output_type": "stream",
     "text": [
      "/usr/local/lib/python3.7/dist-packages/ipykernel_launcher.py:7: UserWarning: `Model.fit_generator` is deprecated and will be removed in a future version. Please use `Model.fit`, which supports generators.\n",
      "  import sys\n"
     ]
    },
    {
     "name": "stdout",
     "output_type": "stream",
     "text": [
      "Epoch 1/100\n",
      "23/23 [==============================] - 327s 14s/step - loss: 4.5459 - accuracy: 0.3383 - val_loss: 2.7742 - val_accuracy: 0.5365\n",
      "Epoch 2/100\n",
      "23/23 [==============================] - 257s 11s/step - loss: 2.7006 - accuracy: 0.5512 - val_loss: 2.6233 - val_accuracy: 0.5729\n",
      "Epoch 3/100\n",
      "23/23 [==============================] - 195s 8s/step - loss: 1.8814 - accuracy: 0.6399 - val_loss: 2.1104 - val_accuracy: 0.6562\n",
      "Epoch 4/100\n",
      "23/23 [==============================] - 166s 7s/step - loss: 2.0237 - accuracy: 0.6454 - val_loss: 2.0049 - val_accuracy: 0.7240\n",
      "Epoch 5/100\n",
      "23/23 [==============================] - 136s 6s/step - loss: 1.9850 - accuracy: 0.6780 - val_loss: 1.7057 - val_accuracy: 0.6771\n",
      "Epoch 6/100\n",
      "23/23 [==============================] - 114s 5s/step - loss: 1.7512 - accuracy: 0.7188 - val_loss: 2.8943 - val_accuracy: 0.6458\n",
      "Epoch 7/100\n",
      "23/23 [==============================] - 101s 4s/step - loss: 2.1030 - accuracy: 0.7011 - val_loss: 2.2158 - val_accuracy: 0.6667\n",
      "Epoch 8/100\n",
      "23/23 [==============================] - 79s 3s/step - loss: 1.6887 - accuracy: 0.7391 - val_loss: 2.9230 - val_accuracy: 0.6198\n",
      "Epoch 9/100\n",
      "23/23 [==============================] - 62s 3s/step - loss: 1.4867 - accuracy: 0.7486 - val_loss: 2.1024 - val_accuracy: 0.6927\n",
      "Epoch 10/100\n",
      "23/23 [==============================] - 59s 3s/step - loss: 1.6309 - accuracy: 0.7595 - val_loss: 3.1255 - val_accuracy: 0.6042\n",
      "Epoch 11/100\n",
      "23/23 [==============================] - 45s 2s/step - loss: 1.9146 - accuracy: 0.7351 - val_loss: 3.1979 - val_accuracy: 0.6406\n",
      "Epoch 12/100\n",
      "23/23 [==============================] - 37s 2s/step - loss: 1.8564 - accuracy: 0.7367 - val_loss: 2.5174 - val_accuracy: 0.7031\n",
      "Epoch 13/100\n",
      "23/23 [==============================] - 45s 2s/step - loss: 1.7367 - accuracy: 0.7599 - val_loss: 3.4407 - val_accuracy: 0.6615\n",
      "Epoch 14/100\n",
      "23/23 [==============================] - 33s 1s/step - loss: 1.8181 - accuracy: 0.7527 - val_loss: 2.7746 - val_accuracy: 0.6510\n",
      "Epoch 15/100\n",
      "23/23 [==============================] - 32s 1s/step - loss: 1.9298 - accuracy: 0.7568 - val_loss: 2.3135 - val_accuracy: 0.7083\n",
      "Epoch 16/100\n",
      "23/23 [==============================] - 33s 1s/step - loss: 1.5944 - accuracy: 0.7853 - val_loss: 2.6157 - val_accuracy: 0.7292\n",
      "Epoch 17/100\n",
      "23/23 [==============================] - 26s 1s/step - loss: 1.5986 - accuracy: 0.7899 - val_loss: 2.9812 - val_accuracy: 0.6979\n",
      "Epoch 18/100\n",
      "23/23 [==============================] - 26s 1s/step - loss: 1.2180 - accuracy: 0.8111 - val_loss: 2.2066 - val_accuracy: 0.7500\n",
      "Epoch 19/100\n",
      "23/23 [==============================] - 23s 1s/step - loss: 1.7059 - accuracy: 0.7704 - val_loss: 5.0648 - val_accuracy: 0.6875\n",
      "Epoch 20/100\n",
      "23/23 [==============================] - 24s 1s/step - loss: 2.2027 - accuracy: 0.7609 - val_loss: 3.3500 - val_accuracy: 0.7396\n",
      "Epoch 21/100\n",
      "23/23 [==============================] - 24s 1s/step - loss: 1.7371 - accuracy: 0.7935 - val_loss: 2.7921 - val_accuracy: 0.6875\n",
      "Epoch 22/100\n",
      "23/23 [==============================] - 23s 998ms/step - loss: 1.4637 - accuracy: 0.8145 - val_loss: 3.7831 - val_accuracy: 0.6979\n",
      "Epoch 23/100\n",
      "23/23 [==============================] - 21s 914ms/step - loss: 1.5927 - accuracy: 0.8090 - val_loss: 2.7124 - val_accuracy: 0.7604\n",
      "Epoch 24/100\n",
      "23/23 [==============================] - 20s 887ms/step - loss: 1.7268 - accuracy: 0.7758 - val_loss: 2.5920 - val_accuracy: 0.7083\n",
      "Epoch 25/100\n",
      "23/23 [==============================] - 23s 1s/step - loss: 1.6320 - accuracy: 0.8098 - val_loss: 2.2082 - val_accuracy: 0.7812\n",
      "Epoch 26/100\n",
      "23/23 [==============================] - 22s 954ms/step - loss: 1.2670 - accuracy: 0.8247 - val_loss: 3.0843 - val_accuracy: 0.7135\n",
      "Epoch 27/100\n",
      "23/23 [==============================] - 21s 904ms/step - loss: 1.5899 - accuracy: 0.8098 - val_loss: 2.1438 - val_accuracy: 0.7656\n",
      "Epoch 28/100\n",
      "23/23 [==============================] - 22s 964ms/step - loss: 1.3236 - accuracy: 0.8383 - val_loss: 2.8702 - val_accuracy: 0.6719\n",
      "Epoch 29/100\n",
      "23/23 [==============================] - 20s 854ms/step - loss: 1.5489 - accuracy: 0.7981 - val_loss: 3.8978 - val_accuracy: 0.6927\n",
      "Epoch 30/100\n",
      "23/23 [==============================] - 21s 902ms/step - loss: 1.3082 - accuracy: 0.8472 - val_loss: 2.9476 - val_accuracy: 0.7396\n",
      "Epoch 31/100\n",
      "23/23 [==============================] - 20s 872ms/step - loss: 1.2819 - accuracy: 0.8240 - val_loss: 2.7308 - val_accuracy: 0.7448\n",
      "Epoch 32/100\n",
      "23/23 [==============================] - 20s 895ms/step - loss: 1.2795 - accuracy: 0.8410 - val_loss: 2.7161 - val_accuracy: 0.7604\n",
      "Epoch 33/100\n",
      "23/23 [==============================] - 21s 899ms/step - loss: 1.3074 - accuracy: 0.8261 - val_loss: 3.0471 - val_accuracy: 0.7552\n",
      "Epoch 34/100\n",
      "23/23 [==============================] - 20s 890ms/step - loss: 1.4592 - accuracy: 0.8329 - val_loss: 2.1614 - val_accuracy: 0.7708\n",
      "Epoch 35/100\n",
      "23/23 [==============================] - 19s 850ms/step - loss: 1.4513 - accuracy: 0.8049 - val_loss: 2.7454 - val_accuracy: 0.7448\n",
      "Epoch 36/100\n",
      "23/23 [==============================] - 20s 887ms/step - loss: 1.4866 - accuracy: 0.8030 - val_loss: 2.5790 - val_accuracy: 0.7396\n",
      "Epoch 37/100\n",
      "23/23 [==============================] - 19s 838ms/step - loss: 1.3970 - accuracy: 0.8166 - val_loss: 2.6134 - val_accuracy: 0.7604\n",
      "Epoch 38/100\n",
      "23/23 [==============================] - 21s 906ms/step - loss: 1.3578 - accuracy: 0.8274 - val_loss: 2.7886 - val_accuracy: 0.7188\n",
      "Epoch 39/100\n",
      "23/23 [==============================] - 20s 851ms/step - loss: 1.0160 - accuracy: 0.8745 - val_loss: 3.1025 - val_accuracy: 0.7240\n",
      "Epoch 40/100\n",
      "23/23 [==============================] - 20s 849ms/step - loss: 1.5543 - accuracy: 0.8302 - val_loss: 2.7356 - val_accuracy: 0.7917\n",
      "Epoch 41/100\n",
      "23/23 [==============================] - 21s 907ms/step - loss: 1.1363 - accuracy: 0.8478 - val_loss: 4.0767 - val_accuracy: 0.7292\n",
      "Epoch 42/100\n",
      "23/23 [==============================] - 20s 878ms/step - loss: 1.3687 - accuracy: 0.8438 - val_loss: 3.2098 - val_accuracy: 0.7500\n",
      "Epoch 43/100\n",
      "23/23 [==============================] - 20s 862ms/step - loss: 1.0266 - accuracy: 0.8682 - val_loss: 3.0896 - val_accuracy: 0.7396\n",
      "Epoch 44/100\n",
      "23/23 [==============================] - 19s 818ms/step - loss: 0.8760 - accuracy: 0.8859 - val_loss: 3.2770 - val_accuracy: 0.7500\n",
      "Epoch 45/100\n",
      "23/23 [==============================] - 20s 889ms/step - loss: 1.0495 - accuracy: 0.8696 - val_loss: 2.5923 - val_accuracy: 0.7292\n",
      "Epoch 46/100\n",
      "23/23 [==============================] - 19s 851ms/step - loss: 1.2064 - accuracy: 0.8519 - val_loss: 2.4541 - val_accuracy: 0.7812\n",
      "Epoch 47/100\n",
      "23/23 [==============================] - 20s 871ms/step - loss: 1.1212 - accuracy: 0.8750 - val_loss: 3.1189 - val_accuracy: 0.7969\n",
      "Epoch 48/100\n",
      "23/23 [==============================] - 20s 881ms/step - loss: 1.1121 - accuracy: 0.8677 - val_loss: 3.0941 - val_accuracy: 0.7135\n",
      "Epoch 49/100\n",
      "23/23 [==============================] - 21s 905ms/step - loss: 1.6585 - accuracy: 0.8383 - val_loss: 3.9670 - val_accuracy: 0.7031\n",
      "Epoch 50/100\n",
      "23/23 [==============================] - 20s 857ms/step - loss: 1.3630 - accuracy: 0.8424 - val_loss: 2.9847 - val_accuracy: 0.7917\n",
      "Epoch 51/100\n",
      "23/23 [==============================] - 20s 872ms/step - loss: 0.8856 - accuracy: 0.8696 - val_loss: 2.4804 - val_accuracy: 0.8177\n",
      "Epoch 52/100\n",
      "23/23 [==============================] - 19s 849ms/step - loss: 1.3147 - accuracy: 0.8560 - val_loss: 3.1616 - val_accuracy: 0.7396\n",
      "Epoch 53/100\n",
      "23/23 [==============================] - 19s 841ms/step - loss: 1.3010 - accuracy: 0.8451 - val_loss: 2.6023 - val_accuracy: 0.8021\n",
      "Epoch 54/100\n",
      "23/23 [==============================] - 20s 865ms/step - loss: 1.1438 - accuracy: 0.8573 - val_loss: 2.3471 - val_accuracy: 0.7865\n",
      "Epoch 55/100\n",
      "23/23 [==============================] - 20s 896ms/step - loss: 0.7257 - accuracy: 0.8791 - val_loss: 2.9120 - val_accuracy: 0.7500\n",
      "Epoch 56/100\n",
      "23/23 [==============================] - 20s 883ms/step - loss: 0.8164 - accuracy: 0.8791 - val_loss: 3.1147 - val_accuracy: 0.7708\n",
      "Epoch 57/100\n",
      "23/23 [==============================] - 19s 844ms/step - loss: 1.2478 - accuracy: 0.8438 - val_loss: 3.4123 - val_accuracy: 0.7500\n",
      "Epoch 58/100\n",
      "23/23 [==============================] - 19s 850ms/step - loss: 1.3773 - accuracy: 0.8533 - val_loss: 1.7592 - val_accuracy: 0.8438\n",
      "Epoch 59/100\n",
      "23/23 [==============================] - 20s 884ms/step - loss: 1.1779 - accuracy: 0.8696 - val_loss: 4.1376 - val_accuracy: 0.6823\n",
      "Epoch 60/100\n",
      "23/23 [==============================] - 20s 855ms/step - loss: 1.3076 - accuracy: 0.8777 - val_loss: 2.7755 - val_accuracy: 0.7656\n",
      "Epoch 61/100\n",
      "23/23 [==============================] - 19s 841ms/step - loss: 1.0993 - accuracy: 0.8791 - val_loss: 2.4546 - val_accuracy: 0.8021\n",
      "Epoch 62/100\n",
      "23/23 [==============================] - 21s 897ms/step - loss: 0.9050 - accuracy: 0.8772 - val_loss: 4.0603 - val_accuracy: 0.7135\n",
      "Epoch 63/100\n",
      "23/23 [==============================] - 21s 894ms/step - loss: 1.4138 - accuracy: 0.8492 - val_loss: 4.7562 - val_accuracy: 0.7135\n",
      "Epoch 64/100\n",
      "23/23 [==============================] - 20s 852ms/step - loss: 1.6119 - accuracy: 0.8533 - val_loss: 3.6366 - val_accuracy: 0.6927\n",
      "Epoch 65/100\n",
      "23/23 [==============================] - 21s 901ms/step - loss: 1.4472 - accuracy: 0.8533 - val_loss: 3.3612 - val_accuracy: 0.7083\n",
      "Epoch 66/100\n",
      "23/23 [==============================] - 19s 846ms/step - loss: 1.2307 - accuracy: 0.8641 - val_loss: 3.3849 - val_accuracy: 0.6823\n",
      "Epoch 67/100\n",
      "23/23 [==============================] - 20s 869ms/step - loss: 0.9015 - accuracy: 0.8682 - val_loss: 3.6045 - val_accuracy: 0.7552\n",
      "Epoch 68/100\n",
      "23/23 [==============================] - 20s 886ms/step - loss: 0.7588 - accuracy: 0.8899 - val_loss: 3.3152 - val_accuracy: 0.7812\n",
      "Epoch 69/100\n",
      "23/23 [==============================] - 20s 899ms/step - loss: 0.7879 - accuracy: 0.8967 - val_loss: 2.9783 - val_accuracy: 0.7969\n",
      "Epoch 70/100\n",
      "23/23 [==============================] - 20s 896ms/step - loss: 0.8725 - accuracy: 0.8922 - val_loss: 3.4189 - val_accuracy: 0.8125\n",
      "Epoch 71/100\n",
      "23/23 [==============================] - 19s 832ms/step - loss: 0.9359 - accuracy: 0.8840 - val_loss: 2.4220 - val_accuracy: 0.8177\n",
      "Epoch 72/100\n",
      "23/23 [==============================] - 19s 843ms/step - loss: 1.1498 - accuracy: 0.8818 - val_loss: 3.0491 - val_accuracy: 0.7604\n",
      "Epoch 73/100\n",
      "23/23 [==============================] - 21s 899ms/step - loss: 1.0017 - accuracy: 0.8845 - val_loss: 2.3525 - val_accuracy: 0.7500\n",
      "Epoch 74/100\n",
      "23/23 [==============================] - 20s 882ms/step - loss: 1.0429 - accuracy: 0.8804 - val_loss: 3.7896 - val_accuracy: 0.7812\n",
      "Epoch 75/100\n",
      "23/23 [==============================] - 22s 954ms/step - loss: 1.0556 - accuracy: 0.8723 - val_loss: 3.6124 - val_accuracy: 0.7448\n",
      "Epoch 76/100\n",
      "23/23 [==============================] - 21s 901ms/step - loss: 1.0354 - accuracy: 0.8704 - val_loss: 2.5242 - val_accuracy: 0.7812\n",
      "Epoch 77/100\n",
      "23/23 [==============================] - 20s 854ms/step - loss: 1.0683 - accuracy: 0.8886 - val_loss: 3.9981 - val_accuracy: 0.7604\n",
      "Epoch 78/100\n",
      "23/23 [==============================] - 20s 896ms/step - loss: 0.8350 - accuracy: 0.8818 - val_loss: 3.8459 - val_accuracy: 0.7708\n",
      "Epoch 79/100\n",
      "23/23 [==============================] - 20s 853ms/step - loss: 1.0242 - accuracy: 0.8913 - val_loss: 3.3895 - val_accuracy: 0.7396\n",
      "Epoch 80/100\n",
      "23/23 [==============================] - 20s 856ms/step - loss: 0.7416 - accuracy: 0.9076 - val_loss: 4.0240 - val_accuracy: 0.7500\n",
      "Epoch 81/100\n",
      "23/23 [==============================] - 20s 858ms/step - loss: 0.9164 - accuracy: 0.8954 - val_loss: 2.6806 - val_accuracy: 0.7969\n",
      "Epoch 82/100\n",
      "23/23 [==============================] - 20s 853ms/step - loss: 0.8520 - accuracy: 0.8872 - val_loss: 2.8822 - val_accuracy: 0.7708\n",
      "Epoch 83/100\n",
      "23/23 [==============================] - 20s 855ms/step - loss: 0.8361 - accuracy: 0.8963 - val_loss: 3.0622 - val_accuracy: 0.7448\n",
      "Epoch 84/100\n",
      "23/23 [==============================] - 21s 890ms/step - loss: 1.2514 - accuracy: 0.8859 - val_loss: 2.9295 - val_accuracy: 0.7812\n",
      "Epoch 85/100\n",
      "23/23 [==============================] - 19s 834ms/step - loss: 1.0464 - accuracy: 0.8909 - val_loss: 3.7050 - val_accuracy: 0.7917\n",
      "Epoch 86/100\n",
      "23/23 [==============================] - 19s 844ms/step - loss: 1.0519 - accuracy: 0.8954 - val_loss: 2.7707 - val_accuracy: 0.7500\n",
      "Epoch 87/100\n",
      "23/23 [==============================] - 20s 859ms/step - loss: 1.0007 - accuracy: 0.8981 - val_loss: 2.3082 - val_accuracy: 0.7917\n",
      "Epoch 88/100\n",
      "23/23 [==============================] - 21s 903ms/step - loss: 0.9487 - accuracy: 0.8950 - val_loss: 3.6707 - val_accuracy: 0.7656\n",
      "Epoch 89/100\n",
      "23/23 [==============================] - 19s 825ms/step - loss: 1.1684 - accuracy: 0.8859 - val_loss: 2.7385 - val_accuracy: 0.7552\n",
      "Epoch 90/100\n",
      "23/23 [==============================] - 19s 833ms/step - loss: 0.8456 - accuracy: 0.8950 - val_loss: 3.1238 - val_accuracy: 0.8073\n",
      "Epoch 91/100\n",
      "23/23 [==============================] - 19s 841ms/step - loss: 0.7282 - accuracy: 0.9008 - val_loss: 2.8178 - val_accuracy: 0.8073\n",
      "Epoch 92/100\n",
      "23/23 [==============================] - 19s 830ms/step - loss: 0.9682 - accuracy: 0.8791 - val_loss: 6.2617 - val_accuracy: 0.6979\n",
      "Epoch 93/100\n",
      "23/23 [==============================] - 20s 871ms/step - loss: 0.9705 - accuracy: 0.8940 - val_loss: 3.2021 - val_accuracy: 0.7448\n",
      "Epoch 94/100\n",
      "23/23 [==============================] - 21s 909ms/step - loss: 0.9196 - accuracy: 0.8954 - val_loss: 3.5302 - val_accuracy: 0.7552\n",
      "Epoch 95/100\n",
      "23/23 [==============================] - 20s 874ms/step - loss: 0.6034 - accuracy: 0.9049 - val_loss: 2.7361 - val_accuracy: 0.8021\n",
      "Epoch 96/100\n",
      "23/23 [==============================] - 20s 866ms/step - loss: 0.9471 - accuracy: 0.9090 - val_loss: 3.3279 - val_accuracy: 0.7500\n",
      "Epoch 97/100\n",
      "23/23 [==============================] - 21s 899ms/step - loss: 0.8928 - accuracy: 0.8832 - val_loss: 3.9353 - val_accuracy: 0.7552\n",
      "Epoch 98/100\n",
      "23/23 [==============================] - 20s 860ms/step - loss: 0.9209 - accuracy: 0.8913 - val_loss: 2.3448 - val_accuracy: 0.8125\n",
      "Epoch 99/100\n",
      "23/23 [==============================] - 21s 917ms/step - loss: 0.7700 - accuracy: 0.9171 - val_loss: 3.7666 - val_accuracy: 0.7917\n",
      "Epoch 100/100\n",
      "23/23 [==============================] - 20s 853ms/step - loss: 0.6874 - accuracy: 0.9185 - val_loss: 4.1425 - val_accuracy: 0.7344\n"
     ]
    }
   ],
   "source": [
    "# fit the model\n",
    "r = model.fit_generator(\n",
    "  training_set,\n",
    "  validation_data=test_set,\n",
    "  epochs=100,\n",
    "  steps_per_epoch=len(training_set)//5,\n",
    "  validation_steps=len(test_set)//5\n",
    ")"
   ]
  },
  {
   "cell_type": "code",
   "execution_count": 15,
   "metadata": {
    "id": "jP6uc-mt54yR"
   },
   "outputs": [],
   "source": [
    "model.save('seedling_exception.h5')"
   ]
  },
  {
   "cell_type": "code",
   "execution_count": 15,
   "metadata": {
    "id": "YQrGgYZg541z"
   },
   "outputs": [],
   "source": [
    "\n",
    "\n",
    "\n"
   ]
  },
  {
   "cell_type": "markdown",
   "metadata": {
    "id": "bBrlwn9fA39a"
   },
   "source": [
    "# Testing"
   ]
  },
  {
   "cell_type": "code",
   "execution_count": 7,
   "metadata": {
    "id": "xUwhUsoS549x"
   },
   "outputs": [],
   "source": [
    "#import load_model class for loading h5 file\n",
    "from tensorflow.keras.models import load_model\n",
    "#import image class to process the images\n",
    "from tensorflow.keras.preprocessing import image\n",
    "#from tensorflow.keras.applications.inception_v3 import preprocess_input\n",
    "from tensorflow.keras.applications.xception import Xception, preprocess_input\n",
    "import numpy as np"
   ]
  },
  {
   "cell_type": "code",
   "execution_count": 8,
   "metadata": {
    "id": "nk_vRhq_xks2"
   },
   "outputs": [],
   "source": [
    "#load saved model file\n",
    "model=load_model('seedling_exception.h5')"
   ]
  },
  {
   "cell_type": "code",
   "execution_count": 9,
   "metadata": {
    "id": "gugrYP5zxkvq"
   },
   "outputs": [],
   "source": [
    "#load one random image from local system\n",
    "img=image.load_img(r\"D:\\data science\\Plant seedling classification\\Data\\test\\Charlock\\0c4a435c7.png\",target_size=(224,224))"
   ]
  },
  {
   "cell_type": "code",
   "execution_count": 10,
   "metadata": {
    "id": "sriHl243xkya"
   },
   "outputs": [],
   "source": [
    "#convert image to array format\n",
    "x=image.img_to_array(img)"
   ]
  },
  {
   "cell_type": "code",
   "execution_count": 11,
   "metadata": {
    "colab": {
     "base_uri": "https://localhost:8080/"
    },
    "id": "igz_wxLfxvCy",
    "outputId": "541f92ec-106d-481d-b578-e6bad1734ad4"
   },
   "outputs": [
    {
     "data": {
      "text/plain": [
       "(224, 224, 3)"
      ]
     },
     "execution_count": 11,
     "metadata": {},
     "output_type": "execute_result"
    }
   ],
   "source": [
    "x.shape"
   ]
  },
  {
   "cell_type": "code",
   "execution_count": 12,
   "metadata": {
    "colab": {
     "base_uri": "https://localhost:8080/"
    },
    "id": "FdCwMr_iyi6J",
    "outputId": "53f487c5-2844-46e8-ff20-74917337b6bd"
   },
   "outputs": [
    {
     "data": {
      "text/plain": [
       "(1, 224, 224, 3)"
      ]
     },
     "execution_count": 12,
     "metadata": {},
     "output_type": "execute_result"
    }
   ],
   "source": [
    "import numpy as np\n",
    "x=np.expand_dims(x,axis=0)\n",
    "img_data=preprocess_input(x)\n",
    "img_data.shape"
   ]
  },
  {
   "cell_type": "code",
   "execution_count": 13,
   "metadata": {
    "colab": {
     "base_uri": "https://localhost:8080/"
    },
    "id": "FtCiKXcEZ3_r",
    "outputId": "05cc183b-9eab-4b29-88c7-a0f06c1c9fdf"
   },
   "outputs": [
    {
     "data": {
      "text/plain": [
       "array([1], dtype=int64)"
      ]
     },
     "execution_count": 13,
     "metadata": {},
     "output_type": "execute_result"
    }
   ],
   "source": [
    "output=np.argmax(model.predict(img_data), axis=1)\n",
    "output"
   ]
  },
  {
   "cell_type": "code",
   "execution_count": null,
   "metadata": {
    "id": "WGP2TDHOcAlG"
   },
   "outputs": [],
   "source": []
  }
 ],
 "metadata": {
  "accelerator": "GPU",
  "colab": {
   "collapsed_sections": [],
   "name": "Plant_seedling_classification_using_Xception.ipynb",
   "provenance": []
  },
  "kernelspec": {
   "display_name": "Python 3",
   "language": "python",
   "name": "python3"
  },
  "language_info": {
   "codemirror_mode": {
    "name": "ipython",
    "version": 3
   },
   "file_extension": ".py",
   "mimetype": "text/x-python",
   "name": "python",
   "nbconvert_exporter": "python",
   "pygments_lexer": "ipython3",
   "version": "3.6.9"
  }
 },
 "nbformat": 4,
 "nbformat_minor": 1
}
